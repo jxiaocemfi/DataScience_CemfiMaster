{
 "cells": [
  {
   "cell_type": "markdown",
   "id": "67e67979",
   "metadata": {},
   "source": [
    "## 2025/10/02 TA Session 1\n",
    "Notes: to catch up: NumPy and Pandas\n",
    "### Reivew of Python code\n",
    "1. comment syntax"
   ]
  },
  {
   "cell_type": "code",
   "execution_count": 2,
   "id": "e9160cf5",
   "metadata": {},
   "outputs": [
    {
     "data": {
      "text/plain": [
       "'\\nThis is a block comment\\nthat spans multiple lines\\n'"
      ]
     },
     "execution_count": 2,
     "metadata": {},
     "output_type": "execute_result"
    }
   ],
   "source": [
    "# to comment chunk of Code\n",
    "# see how it works on macos\n",
    "# the shortcut should be Cmd + /\n",
    "# to uncomment, use the same shortcut\n",
    "\n",
    "# alternatively, you can use triple quotes\n",
    "\"\"\"\n",
    "This is a block comment\n",
    "that spans multiple lines\n",
    "\"\"\" "
   ]
  },
  {
   "cell_type": "markdown",
   "id": "597d2a57",
   "metadata": {},
   "source": [
    "2. using f to insert in print command"
   ]
  },
  {
   "cell_type": "code",
   "execution_count": 4,
   "id": "aaea5a99",
   "metadata": {},
   "outputs": [
    {
     "name": "stdout",
     "output_type": "stream",
     "text": [
      "Alice is 30 years old.\n",
      "The sum of 5 and 10 is 15.\n"
     ]
    }
   ],
   "source": [
    "# use f to insert in print command\n",
    "name = \"Alice\"\n",
    "age = 30\n",
    "print(f\"{name} is {age} years old.\")\n",
    "\n",
    "# the syntax f\"...\" is used to create formatted string literals,\n",
    "# just add f before the opening quotation mark of the string.\n",
    "# and use curly braces {} to embed expressions inside the string.\n",
    "# inside {}, it should be valid python expressions.\n",
    "# for example, you can do calculations inside {}\n",
    "a = 5\n",
    "b = 10\n",
    "print(f\"The sum of {a} and {b} is {a + b}.\")    \n",
    "# output: The sum of 5 and 10 is 15."
   ]
  },
  {
   "cell_type": "markdown",
   "id": "50d3cb65",
   "metadata": {},
   "source": [
    "3. object and method"
   ]
  },
  {
   "cell_type": "code",
   "execution_count": 5,
   "id": "1d9514c0",
   "metadata": {},
   "outputs": [],
   "source": [
    "# there are pre-defined objects in python, such as string, list, dictionary, etc.\n",
    "# each object has its own methods (functions associated with the object)\n",
    "# for example, string object has methods like .upper(), .lower(), .replace(), etc\n",
    "# besides method, attributes are also associated with objects\n",
    "# for example, string object has attribute .length\n",
    "# attribute is like property of the object, method is like action of the object\n",
    "# to access method or attribute, use dot notation: object.method() or object.attribute"
   ]
  },
  {
   "cell_type": "markdown",
   "id": "d7334b49",
   "metadata": {},
   "source": [
    "4. variables"
   ]
  },
  {
   "cell_type": "code",
   "execution_count": null,
   "id": "e0217b37",
   "metadata": {},
   "outputs": [],
   "source": [
    "# no need to declare variable type in python,\n",
    "# but to declare, we can use type hints\n",
    "x: int = 10          # x is an integer\n",
    "y: float = 3.14     # y is a float\n",
    "name: str = \"Bob\"   # name is a string\n",
    "is_student: bool = True  # is_student is a boolean\n",
    "# however, python is dynamically typed, so the type can change\n",
    "x = \"Now I'm a string\"  # x is now a string"
   ]
  },
  {
   "cell_type": "markdown",
   "id": "6315de7c",
   "metadata": {},
   "source": [
    "5. container data type"
   ]
  },
  {
   "cell_type": "code",
   "execution_count": null,
   "id": "573eb757",
   "metadata": {},
   "outputs": [],
   "source": [
    "# tuple, list, set, dictionary\n",
    "# tuple is immutable, use parentheses ()\n",
    "my_tuple = (1, 2, 3)\n",
    "# list is mutable, use square brackets []\n",
    "my_list = [1, 2, 3]\n",
    "# set is unordered collection of unique elements, use curly braces {}\n",
    "my_set = {1, 2, 3}\n",
    "# dictionary is key-value pairs, use curly braces {}\n",
    "my_dict = {\"name\": \"Alice\", \"age\": 30}\n",
    "# access dictionary value by key\n",
    "my_dict[\"name\"]  # returns \"Alice\"\n",
    "my_dict[\"age\"]   # returns 30\n",
    "# add new key-value pair\n",
    "my_dict[\"is_student\"] = False\n",
    "# update value\n",
    "my_dict[\"age\"] = 31\n",
    "# remove key-value pair\n",
    "del my_dict[\"is_student\"]   \n",
    "# we can append to list, but not to tuple\n",
    "my_list.append(4)  # my_list is now [1, 2, 3, 4]\n",
    "# my_tuple.append(4)  # this will raise an Attribute\n",
    "# each container type can contain different data types\n",
    "mixed_list = [1, \"two\", 3.0, True, [5, 6], (7, 8), {9, 10}, {\"key\": \"value\"}]"
   ]
  },
  {
   "cell_type": "markdown",
   "id": "3f000988",
   "metadata": {},
   "source": [
    "5. function, branching, looping\n",
    "\n",
    "### Intro to NumPy"
   ]
  },
  {
   "cell_type": "code",
   "execution_count": 7,
   "id": "5e0bdab6",
   "metadata": {},
   "outputs": [
    {
     "name": "stdout",
     "output_type": "stream",
     "text": [
      "[1 2 3 4 5]\n",
      "[[1 2 3]\n",
      " [4 5 6]]\n",
      "1\n",
      "2\n",
      "2.5\n",
      "2.5\n"
     ]
    }
   ],
   "source": [
    "# NumPy is a library I need to import\n",
    "import numpy as np\n",
    "# a library is a collection of pre-written code that we can use to perform specific tasks\n",
    "# how to use np\n",
    "array1 = np.array([1, 2, 3, 4, 5])\n",
    "print(array1)\n",
    "# output: [1 2 3 4 5]\n",
    "# create a 2D array (matrix)\n",
    "matrix1 = np.array([[1, 2, 3], [4, 5, 6]])\n",
    "print(matrix1)\n",
    "# output:\n",
    "# [[1 2 3]\n",
    "#  [4 5 6]]\n",
    "# array is not in python built-in data type, it is provided by NumPy library\n",
    "# .array() is a method of NumPy library to create an array\n",
    "# indexing in NumPy array\n",
    "print(array1[0])  # output: 1\n",
    "print(matrix1[0, 1])  # output: 2\n",
    "\n",
    "array1 = np.array([1, 2, 3, 4])\n",
    "print(array1.mean())     # 数组方法\n",
    "print(np.mean(array1))   # NumPy 函数\n",
    "# the difference between array method and NumPy function\n",
    "# array method is called on the array object, it operates on that specific array\n",
    "# NumPy function is called on the NumPy library, it can operate on any array passed"
   ]
  },
  {
   "cell_type": "markdown",
   "id": "1be85264",
   "metadata": {},
   "source": [
    "# **Practice exercies** \n",
    "3.  Create a new array that replaces all elements in 1 that are odd by -1. \n",
    "4.  Create a 3-by-3 matrix filled with 'True' values (i.e., booleans).\n",
    "5.  Suppose you have array `a=np.array(['a','b','c','d','e','f','g'])` and `b = np.array(['g','h','c','a','e','w','g'])`. Find all elements that are equal. Can you get the position where the elements of both arrays match?\n",
    "6.  Write a function that takes a element an array and prints elements that are divisible by a given number. Try it creating an array from 1 to 20 and printiing divisibles by 3.  \n",
    "7. Consider two matrices, A and B, both of size 100x100, filled with random integer values between 1 and 10. Implement a function to perform element-wise multiplication of these matrices using nested loops. Implement the same operation using Numpy's vectorized multiplication. Repeart againnwith matrices of size 1000x1000, 10000x10000, 1000000x1000000 and compare the execution time. Which one is faster? \n"
   ]
  },
  {
   "cell_type": "code",
   "execution_count": null,
   "id": "ea4bdf7c",
   "metadata": {},
   "outputs": [],
   "source": [
    "# 1: Create a 1D array with all integer elemenets from 1 to 10 (both included). No hard-coding allowed!\n",
    "array_1_to_10 = np.arange(1, 11)\n",
    "print(array_1_to_10)\n",
    "# output: [ 1  2  3  4  5  6  7  8  9 10]\n",
    "\n",
    "# 2.  From the array you created in 1, create one that contains all odd elements and one with all even elements.\n"
   ]
  },
  {
   "cell_type": "markdown",
   "id": "c151f3e5",
   "metadata": {},
   "source": [
    "### Intro to pandas"
   ]
  },
  {
   "cell_type": "code",
   "execution_count": null,
   "id": "c9102d9e",
   "metadata": {},
   "outputs": [],
   "source": [
    "# series, dataframe\n",
    "# series for single variable, dataframe for multiple variables\n",
    "\n",
    "# slicing\n"
   ]
  }
 ],
 "metadata": {
  "kernelspec": {
   "display_name": "datascience-cemfimaster",
   "language": "python",
   "name": "python3"
  },
  "language_info": {
   "codemirror_mode": {
    "name": "ipython",
    "version": 3
   },
   "file_extension": ".py",
   "mimetype": "text/x-python",
   "name": "python",
   "nbconvert_exporter": "python",
   "pygments_lexer": "ipython3",
   "version": "3.11.13"
  }
 },
 "nbformat": 4,
 "nbformat_minor": 5
}
