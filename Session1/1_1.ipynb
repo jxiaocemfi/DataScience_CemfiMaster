{
 "cells": [
  {
   "cell_type": "markdown",
   "metadata": {},
   "source": [
    "<a href=\"https://colab.research.google.com/github/jesusvillota/DataScience_CemfiMaster/blob/master/Session1/1_1.ipynb\" target=\"_parent\"><img src=\"https://colab.research.google.com/assets/colab-badge.svg\" alt=\"Open In Colab\"/></a>"
   ]
  },
  {
   "cell_type": "markdown",
   "metadata": {},
   "source": [
    "<div style=\"max-width: 880px; margin: 20px auto 22px; padding: 0px; border-radius: 18px; border: 1px solid #e5e7eb; background: linear-gradient(180deg, #ffffff 0%, #f9fafb 100%); box-shadow: 0 8px 26px rgba(0,0,0,0.06); overflow: hidden;\">\n",
    "\n",
    "  <!-- Banner Header -->\n",
    "  <div style=\"padding: 34px 32px 14px; text-align: center; line-height: 1.38;\">\n",
    "    <div style=\"font-size: 13px; letter-spacing: 0.14em; text-transform: uppercase; color: #6b7280; font-weight: bold; margin-bottom: 5px;\">\n",
    "      Session #1\n",
    "    </div>\n",
    "    <div style=\"font-size: 29px; font-weight: 800; color: #14276c; margin-bottom: 4px;\">\n",
    "      Introduction to Python | Part I\n",
    "    </div>\n",
    "    <div style=\"font-size: 16.5px; color: #374151; font-style: italic; margin-bottom: 0;\">\n",
    "      Data Science for Economics\n",
    "    </div>\n",
    "  </div>\n",
    "\n",
    "  <!-- Logo Section -->\n",
    "  <div style=\"background: none; text-align: center; margin: 30px 0 10px;\">\n",
    "    <img src=\"https://www.cemfi.es/images/Logo-Azul.png\" alt=\"CEMFI Logo\" style=\"width: 158px; filter: drop-shadow(0 2px 12px rgba(56,84,156,0.05)); margin-bottom: 0;\">\n",
    "  </div>\n",
    "\n",
    "  <!-- Name -->\n",
    "  <div style=\"font-family: 'Times New Roman', Times, serif; color: #38549c; text-align: center; font-size: 1.22em; font-weight: bold; margin-bottom: 0px;\">\n",
    "    Jesus Villota Miranda © 2025\n",
    "  </div>\n",
    "\n",
    "  <!-- Contact info -->\n",
    "  <div style=\"font-family: 'Times New Roman', Times, serif; color: #38549c; text-align: center; font-size: 1em; margin-top: 7px; margin-bottom: 20px;\">\n",
    "    <a href=\"mailto:jesus.villota@cemfi.edu.es\" style=\"color: #38549c; text-decoration: none; margin-right:8px;\" title=\"Email\">\n",
    "      <!-- Email logo -->\n",
    "      <!-- <img src=\"https://cdn-icons-png.flaticon.com/512/11679/11679732.png\" alt=\"Email\" style=\"width:18px; vertical-align:middle; margin-right:5px;\"> -->\n",
    "      jesus.villota@cemfi.edu.es\n",
    "    </a>\n",
    "    <span style=\"color:#9fa7bd;\">|</span>\n",
    "    <a href=\"https://www.linkedin.com/in/jesusvillotamiranda/\" target=\"_blank\" style=\"color: #38549c; text-decoration: none; margin-left:7px;\" title=\"LinkedIn\">\n",
    "      <!-- LinkedIn logo -->\n",
    "      <!-- <img src=\"https://1.bp.blogspot.com/-onvhHUdW1Us/YI52e9j4eKI/AAAAAAAAE4c/6s9wzOpIDYcAo4YmTX1Qg51OlwMFmilFACLcBGAsYHQ/s1600/Logo%2BLinkedin.png\" alt=\"LinkedIn\" style=\"width:17px; vertical-align:middle; margin-right:5px;\"> -->\n",
    "      LinkedIn\n",
    "    </a>\n",
    "  </div>\n",
    "</div>\n"
   ]
  },
  {
   "cell_type": "markdown",
   "metadata": {},
   "source": [
    ":::\n",
    "Sources:\n",
    "- Online course: [Python Programming for Data Science](https://www.tomasbeuzen.com/python-programming-for-data-science/README.html)\n",
    "- Own contributions and adaptations.\n",
    ":::"
   ]
  },
  {
   "cell_type": "markdown",
   "metadata": {},
   "source": [
    "Welcome everyone to this short brush-up course in Python programming. Our aim over these two classes is to provide you with a solid foundation, ensuring you're well-prepared to make the most of the upcoming Data Science course taught by Chris.\n",
    "\n",
    "These first two classes are designed to acquaint you with the fundamental concepts you'll need moving forward. If certain concepts seem unfamiliar or daunting, don't panic. Programming presents a steep learning curve, you'll be amazed at how much you can achieve in a short time.\n",
    "\n",
    "The topics we aim to cover in these lessons are:\n",
    "1. Overview of the installation guidelines you've been provided (S1)\n",
    "2. Jupyter Notebook foundations (S1)\n",
    "3. Basic programming syntax. (S1)\n",
    "4.  `NumPy` (S1)\n",
    "5. Data management with `pandas`(S2)\n",
    "6. Data visualization with `matplotlib` and `seaborn` (S2)"
   ]
  },
  {
   "cell_type": "markdown",
   "metadata": {},
   "source": [
    "# **1. Overview of setup and installation**\n",
    "\n",
    "<hr>\n",
    "\n",
    "<img src=\"https://external-content.duckduckgo.com/iu/?u=https%3A%2F%2Flogos-world.net%2Fwp-content%2Fuploads%2F2021%2F10%2FPython-Logo.png&f=1&nofb=1&ipt=71c37d83c19de1b87b943eaada21ff310edfb4b9591adcb42be86407c9045b50\" width=\"200px\" />\n",
    "\n",
    "**What is Python?** \n",
    "\n",
    "Python is a high-level, general-purpose programming language designed by Guido van Rossum in the late 1980s. It acts as a translator, abstracting away the  details of computers and enabling us to communicate with them using a language that's easier for humans to understand. \n",
    "\n",
    "Python emphasizes readability, making it *straightforward* to write and understand code. It supports various programming paradigms, including procedural, where we provide a sequence of instructions; object-oriented, where we create objects with data and perform actions on them; and functional programming, where code is organized around functions. \n",
    "\n",
    "With a vast ecosystem of libraries and frameworks, Python is widely used across diverse applications, from web development and data analysis to artificial intelligence and scientific computing. Over the years, Python has transitioned from a specialized scientific computing language to a key player in data science, machine learning, and software development, thanks to its extensive open-source libraries and its adaptability to construct sophisticated data applications.\n",
    "\n",
    "**Why Python?**\n",
    "- Python is widely used, increasing the availability of resources that we, as end-users, can leverage.\n",
    "- Python is free and open-source.\n",
    "- Python is connected to many software platforms. This kind of integration with other software allows us to expand the functionality of software packages and customize solutions for specific data analysis needs.\n",
    "\n",
    "However, setting up a Python environment for data science is not straightforward. We need an environment that contains all the packages/libraries in a compatible way. Achieving this isn't always easy.\n",
    "\n",
    "**Installation** \n",
    "\n",
    "We can just install Python from the [official website](https://www.python.org/downloads/). This installation would have us equipped to write and run code directly from our terminal. However, this approach is rather unintuitive, especially for beginners who are just getting started with programming. That's where text editors come into play. Text editors provide a more user-friendly interface for writing and organizing code, offering features like syntax highlighting, auto-completion, and project management tools, making the coding process more intuitive and efficient for programmers of any level. \n",
    "\n",
    "We'll use [VSCode](https://code.visualstudio.com) as editor (aka **I**ntegrated **D**evelopment **E**nvironment). VSCode is a very popular editor because it supports almost any language and, by downloading the right extensions, we can adapt the coding to all levels of programming. In this course we will use all the Python extensions and the Jupyter Notebook ones (*python, pylance, jupyter, jupyter cell tags, jupyter keymap, jupyter notebook renderers, jupyter slide show, python indent, python debugger, Python extended*)\n",
    "\n",
    "With the native Python installation we get a subset of basic packages, but to this environment we need to include the packages/libraries that we need for our particular tasks. Packages are extensions to the basic Python environment developed by the community. Putting it in simple words, we could say they are a collection of scripts that define a new set of functions, data type and methods that allow further manipulation of our data. Because the architecture of all these packages is highly interlinked, it is easy to run into incompatibilities when installing our packages. \n",
    "\n",
    "**UV: A Modern Python Package Manager**\n",
    "\n",
    "For this course, we'll use [UV](https://docs.astral.sh/uv/), a fast, modern Python package and project manager written in Rust. UV is designed to be a drop-in replacement for traditional tools like pip and conda, offering significantly faster installation times and better dependency resolution.\n",
    "\n",
    "**Why UV over Anaconda/Conda?**\n",
    "- **Speed**: UV is extremely fast, often 10-100x faster than pip and conda for package installations\n",
    "- **Better dependency resolution**: UV uses a modern solver that handles complex dependency trees more reliably\n",
    "- **Simpler workflow**: UV combines package management, virtual environment creation, and project management in one tool\n",
    "- **Reproducible environments**: UV automatically generates lock files ensuring everyone has the exact same package versions\n",
    "- **Less disk space**: UV efficiently manages package caches and installations\n",
    "\n",
    "**Installation Steps:**\n",
    "\n",
    "**Step 1: Install UV**\n",
    "\n",
    "On **macOS/Linux**, open a terminal and run:\n",
    "```bash\n",
    "curl -LsSf https://astral.sh/uv/install.sh | sh\n",
    "```\n",
    "\n",
    "On **Windows**, open PowerShell and run:\n",
    "```bash\n",
    "powershell -ExecutionPolicy ByPass -c \"irm https://astral.sh/uv/install.ps1 | iex\"\n",
    "```\n",
    "\n",
    "Alternatively, you can install UV using:\n",
    "- **macOS with Homebrew**: `brew install uv`\n",
    "- **Windows with Chocolatey**: `choco install uv`\n",
    "- **Any platform with pip**: `pip install uv`\n",
    "\n",
    "**Step 2: Clone or Download the Course Repository**\n",
    "\n",
    "Download this repository to your local machine. You'll notice it contains a `pyproject.toml` file which defines our project dependencies and a `uv.lock` file which locks specific versions for reproducibility.\n",
    "\n",
    "**Step 3: Create and Activate the Virtual Environment**\n",
    "\n",
    "Navigate to the project directory in your terminal and run:\n",
    "\n",
    "```bash\n",
    "# Navigate to the project directory\n",
    "cd path/to/DataScience_CemfiMaster\n",
    "\n",
    "# Create a virtual environment and install all dependencies\n",
    "uv sync\n",
    "```\n",
    "\n",
    "The `uv sync` command will automatically create a virtual environment (`.venv` folder) and install all the packages specified in the `pyproject.toml` and `uv.lock` files. UV automatically activates this environment when you use `uv run` commands.\n",
    "\n",
    "**Step 4: Verify the Installation**\n",
    "\n",
    "Check that Python and the required packages are correctly installed:\n",
    "\n",
    "```bash\n",
    "# Check Python version\n",
    "uv run python --version\n",
    "\n",
    "# Check that key packages are available\n",
    "uv run python -c \"import numpy, pandas, matplotlib, seaborn; print('All packages installed successfully!')\"\n",
    "```\n",
    "\n",
    "**Step 5: Set up VSCode**\n",
    "\n",
    "1. Make sure you have downloaded all the relevant Python and Jupyter extensions in VSCode\n",
    "2. Open the project folder in VSCode\n",
    "3. When you open a new Jupyter notebook, VSCode should automatically detect the UV environment\n",
    "4. If not, you can manually select the Python interpreter by:\n",
    "   - Press `Ctrl+Shift+P` (or `Cmd+Shift+P` on Mac)\n",
    "   - Type \"Python: Select Interpreter\"\n",
    "   - Choose the interpreter from the UV environment (usually located in `.venv/bin/python` or `.venv/Scripts/python.exe`)\n",
    "\n",
    "**Key UV Commands for This Course:**\n",
    "\n",
    "- `uv sync`: Install all dependencies from the lock file and create/update the virtual environment\n",
    "- `uv add package_name`: Add a new package to the project (this will update both `pyproject.toml` and `uv.lock`)\n",
    "- `uv remove package_name`: Remove a package from the project\n",
    "- `uv run command`: Run any command in the project environment (UV automatically activates the environment)\n",
    "- `uv python install 3.11`: Install a specific Python version\n",
    "- `uv tree`: Show the dependency tree\n",
    "- `uv lock`: Update the lock file after manual changes to `pyproject.toml`\n",
    "\n",
    "**Working with UV in Practice:**\n",
    "\n",
    "Since UV automatically manages the virtual environment activation, you don't need to manually activate/deactivate environments. Simply use `uv run` before any Python command:\n",
    "\n",
    "```bash\n",
    "# Instead of activating an environment and running python\n",
    "uv run python script.py\n",
    "\n",
    "# Instead of activating an environment and running jupyter\n",
    "uv run jupyter notebook\n",
    "\n",
    "# Run any Python command\n",
    "uv run python -c \"print('Hello from UV environment!')\"\n",
    "```\n",
    "\n",
    "**Understanding the Project Files:**\n",
    "\n",
    "- **`pyproject.toml`**: Defines project metadata and dependencies (similar to environment.yml but more modern)\n",
    "- **`uv.lock`**: Locks exact versions of all packages for reproducibility (automatically generated)\n",
    "- **`.venv/`**: Contains the virtual environment (automatically created by UV)\n",
    "\n",
    "This setup ensures that everyone in the class has exactly the same Python environment with the same package versions, making our code reproducible and avoiding the \"it works on my machine\" problem!"
   ]
  },
  {
   "cell_type": "markdown",
   "metadata": {},
   "source": [
    "# **2. Jupyter Notebooks**\n",
    "\n",
    "<hr>\n",
    "\n",
    "<img src=\"https://external-content.duckduckgo.com/iu/?u=https%3A%2F%2Fkiran-parte.github.io%2Faiforall%2Fassets%2Fimages%2Fblog%2Fjupyter.jpg&f=1&nofb=1&ipt=9a8eccb2a29542fc1212ab390ec49132d105b54180f259a57faab1bacaf1c5f5\n",
    "\" width=\"200px\" />\n",
    "\n",
    "The way in which we will interact with Python code will be through Jupyter Notebooks on VSCode.  Jupyter Notebooks, as well as the popular Jupyter Lab, are all part of the [**Jupyter Project**](https://jupyter.org/try) which revolves around the provision of tools and standards for interactive computing across different computing languages (**Ju**lia,**Pyt**hon,**R**) through computational notebooks.\n",
    "\n",
    "Jupyter Notebooks is an example of **computational notebook**. Notebooks merge code, plain language explanations, data, and visualizations into a shareable document. A notebook offers a rapid interactive platform for code typing, data exploration, visualization, and idea sharing, stemming from the belief that the most effective way to learn and program is through hands-on interaction with code. That is, we can pool together in a single file (**a notebook**) all data workflow behind our analysis. \n",
    "\n",
    "At the end of the day, notebooks capture interactive session inputs and outputs along with explanatory text providing a comprehensive computational record. The notebook file, saved with the .ipynb extension, is internally JSON files, allowing for version control and easy sharing. Additionally, notebooks can be exported to various static formats. \n",
    "\n",
    "Notebooks replace the traditional console-based interactive computing by introducing a web-based application that captures the entire computation process: from code development and documentation to execution and result communication. The Jupyter notebook integrates both elements:\n",
    "\n",
    "1. **A web application** (although we will use VSCode rather than the browser based extension): This browser-based editing program enables interactive authoring of computational notebooks, offering a swift environment for code prototyping, data exploration, visualization, and idea sharing.\n",
    "\n",
    "2. **Computational Notebook documents**: These shareable documents combine computer code, plain language explanations, data, visualizations and interactive controls.\n",
    "\n",
    "The Jupyter notebook interacts with kernels, which are implementations of the Jupyter interactive computing protocol specific to different programming languages. In plain words, *kernels* are the separate process that interprets and executes our code in a given programming language. \n",
    "\n",
    "From Jupyter on VSCode we can just open a new Jupyter Notebook on **File** &rarr; **New File**  &rarr; **Jupyter Notebook**. When we open a new notebook, we will find the following elements:\n",
    "\n",
    "![Notebooks on VSCode](https://raw.githubusercontent.com/albaminanomanero/intro-python/main/img1.png)\n",
    "\n",
    "1. Toolbar of VSCode. \n",
    "2. Name of our new notebook: notice that when a white point appears is because there are unsaved changes. Notice that notebooks have the **.ipynb** extension. \n",
    "3. Run all: will run all cells of the notebook sequentially. \n",
    "4. Kernel: allows to specify the kernel in which we want to run our notebook. \n",
    "5. Notebook toolbar: allows to run and edit cells. \n",
    "6. Indicator of type of cell (Python or markdown)\n",
    "7. Cell\n",
    "8. Add new cells \n",
    "\n",
    "The notebook is composed of a series of cells, each serving as a multiline text input field. These cells can be executed by pressing Shift-Enter, or by clicking the \"Play\" button in the toolbar or selecting \"Cell\" then \"Run\" from the menu bar. The behavior of cell execution depends on its type, with three main types: code cells, markdown cells, and raw cells. While every cell begins as a code cell, its type can be altered using a drop-down menu in the toolbar, which will be activated if you press  on the type of cell in the bottom-left corner (i.e., in the image below where it says Python.)\n",
    "\n",
    "![Notebooks on VSCode](https://raw.githubusercontent.com/albaminanomanero/intro-python/main/img3.png)\n",
    "\n",
    "**Main types of cells**:\n",
    "- Code\n",
    "\n",
    "    Allow editing and creating new code, complete with syntax highlighting and tab completion. The choice of programming language depends on the kernel, with the default kernel (IPython) executing Python code.\n",
    "\n",
    "    Upon execution of a code cell, the resulting computation outputs are then showcased in the notebook as the cell's output. This output isn't limited to text; various forms such as matplotlib figures and HTML tables (as employed in packages like pandas for data analysis) are also supported. \n",
    "\n",
    "- Markdown: \n",
    "\n",
    "    Allow you to document the computational process in a literate manner, combining descriptive text with code using rich text. In IPython, this is achieved by using Markdown cells, where text is marked up with the Markdown language. Markdown provides a simple way to emphasize text, create lists, and structure the document using headings indicated by hash signs. Markdown headings become clickable links in the notebook and provide structure hints when exporting to other formats like PDF. When a Markdown cell is executed, the Markdown code is converted into formatted rich text, allowing for arbitrary HTML code for further formatting.\n",
    "\n",
    "- Raw cells: \n",
    "\n",
    "    They allow to write output directly, meaning they are not evaluated by the kernel when runing the notebook\n",
    "\n",
    "**Workflow:**\n",
    "\n",
    "A workflow in a Jupyter Notebook is run sequentially. As in a script, there is line hierarchy within cells, and there is also sequential hierarchy between cells. However, notebooks have the advantage of allowing us to edit cells separately multiple times until achieving the desired outcome, rather than rerunning separate scripts.\n",
    "\n",
    "When working on a computational problem, you can organize related ideas into cells and progress incrementally, moving forward once previous parts function correctly, which is very useful when running codes that have snippets that take long. If at anypoint we want to interrupt running a cell, we can achieve that pressing the interrupt cell. Also, we can restart the Kernel to shut down the computational process. \n",
    "\n",
    "When we run a cell, the notebook sends that process to the Kernel and prints directly the output of the execution. The execution order appears in square brackets to the left of the printed output. Notice that when we run a notebook, all cells are run in the same kernel. This means that whatever we run in a given cell will remain active unless we restart the Notebook. \n",
    "\n",
    "Also, whenever we shut down a Notebook (either by restarting the Kernel or just saving and closing the notebook), all of our processes and outputs that have not been saved to disk will be erased. \n",
    "\n",
    "> My tip: while notebooks are highly useful for writing and explaining work processes, particularly for others, they may not be as practical for large research projects. Instead, I often work concurrently on a script that I run in a notebook, executing it step by step until all lines of code run smoothly. Once I have finished the code, I only save the script. "
   ]
  },
  {
   "cell_type": "markdown",
   "metadata": {},
   "source": [
    "# **3. Preliminaries**\n",
    "\n",
    "<hr>"
   ]
  },
  {
   "cell_type": "markdown",
   "metadata": {},
   "source": [
    "## **3.1. Introduction to Markdown**\n",
    "\n",
    "double-click in a Markdown cell to edit it. \n",
    "\n",
    "- **Headings**\n",
    "    - Use hash signs to create headings, with the number of hash signs indicating the heading level:\n",
    "    - `# Heading 1`, `## Heading 2`, ... `###### Heading 6`\n",
    "\n",
    "- **Italics**\n",
    "    - Surround text with single asterisks or underscores: `*italic*` or `_italic_`\n",
    "    - *This is some example text in italics*\n",
    "\n",
    "- **Bold**\n",
    "    - Surround text with double asterisks or underscores: `**bold**` or `__bold__`\n",
    "    - **This is some example text in bold**\n",
    "- **Blockquotes**\n",
    "    - Start a line with a greater-than sign: `> This is a blockquote`\n",
    "    - > This is an example blockquote\n",
    "\n",
    "\n",
    "- **Code**\n",
    "    - Inline code:\n",
    "        - Surround code with backticks: `` `code` ``\n",
    "        - `print(\"This is an example inline code\")`\n",
    "    - Code block:\n",
    "        - Surround code with triple backticks and specify the language: \n",
    "        ````\n",
    "        ```python\n",
    "        Your code here\n",
    "        ```\n",
    "        ````\n",
    "        - For example:\n",
    "     ```python\n",
    "     # This is an example code block\n",
    "        def hello_world():\n",
    "            print(\"Hello, world!\")\n",
    "     ```"
   ]
  },
  {
   "cell_type": "markdown",
   "metadata": {},
   "source": [
    "## **3.2. Running code**\n",
    "\n",
    "In a Jupyter Notebook you can execute a code cell by using one of the following methods:\n",
    "\n",
    "- **[Option 1]** Click the ▶️ button in the toolbar of the cell you want to run (top left corner of the cell)\n",
    "\n",
    "- **[Option 2]** Keyboard shortcut: Click on the cell you want to run & press [`⇧` shift] + [`⏎` enter] \n",
    "\n",
    "\n",
    "> **Recommendation**: Use the keyboard shortcut to run code cells, as it is faster than clicking the button. Also, note that if you leave [`⇧` shift] pressed and press [`⏎` enter] multiple times, you will run cells sequentially."
   ]
  },
  {
   "cell_type": "code",
   "execution_count": 1,
   "metadata": {},
   "outputs": [
    {
     "name": "stdout",
     "output_type": "stream",
     "text": [
      "Hello, world!\n"
     ]
    }
   ],
   "source": [
    "print(\"Hello, world!\")"
   ]
  },
  {
   "cell_type": "markdown",
   "metadata": {},
   "source": [
    "## **3.3. Commenting code**\n",
    "\n",
    "Commenting code is useful for adding explanations or notes within the code without affecting its execution.\n",
    "\n",
    "- In Python, comments are created by adding a `#` symbol before the text you want to comment. \n",
    "- Also, you can create multi-line comments by enclosing the text in triple quotes (`\"\"\"` or `'''`).\n",
    "\n",
    "\n",
    "\n",
    "> **Recommendation**: use keyboard shortcuts to comment and uncomment code (uses `#` by default)\n",
    "\n",
    "| Platform        | Keyboard Shortcut                                 |  \n",
    "|-----------------|------------------------------------------|  \n",
    "| Mac             | [`⌘` command] + [`⇧` shift] + [`/`]      |  \n",
    "| Windows/Linux   | [`Ctrl`] + [`/`]                         |  \n"
   ]
  },
  {
   "cell_type": "code",
   "execution_count": 2,
   "metadata": {},
   "outputs": [
    {
     "name": "stdout",
     "output_type": "stream",
     "text": [
      "Hello, world!\n"
     ]
    }
   ],
   "source": [
    "print(\"Hello, world!\")  # This line prints a `Hello, world!` message"
   ]
  },
  {
   "cell_type": "code",
   "execution_count": 1,
   "metadata": {},
   "outputs": [],
   "source": [
    "# # The line below is commented and won't execute, try removing the # to see it in action\n",
    "# print(\"I want to be executed, but the # in front won't let me!!!\") "
   ]
  },
  {
   "cell_type": "code",
   "execution_count": 2,
   "metadata": {},
   "outputs": [
    {
     "data": {
      "text/plain": [
       "'\\nThis is a multi-line comment.\\nIt can span multiple lines.\\nYou can use it to explain complex logic or provide documentation.\\nYou can also use it to temporarily disable code.\\n'"
      ]
     },
     "execution_count": 2,
     "metadata": {},
     "output_type": "execute_result"
    }
   ],
   "source": [
    "\"\"\"\n",
    "This is a multi-line comment.\n",
    "It can span multiple lines.\n",
    "You can use it to explain complex logic or provide documentation.\n",
    "You can also use it to temporarily disable code.\n",
    "\"\"\""
   ]
  },
  {
   "cell_type": "markdown",
   "metadata": {},
   "source": [
    "## **3.4. Printing**\n",
    "\n",
    "- `print()`\n",
    "    - To display output in Python, you can use the `print()` function. \n",
    "    - This function takes one or more arguments and prints them to the output cell. \n",
    "    - You can print strings, numbers, variables, and even complex data structures like lists or dictionaries."
   ]
  },
  {
   "cell_type": "code",
   "execution_count": 5,
   "metadata": {},
   "outputs": [
    {
     "name": "stdout",
     "output_type": "stream",
     "text": [
      "Hello, world!\n",
      "42\n"
     ]
    }
   ],
   "source": [
    "print(\"Hello, world!\")           # Print a string\n",
    "print(42)                        # Print a number"
   ]
  },
  {
   "cell_type": "code",
   "execution_count": 6,
   "metadata": {},
   "outputs": [
    {
     "name": "stdout",
     "output_type": "stream",
     "text": [
      "My name is Alice , my favorite number is 4 and my favorite color is blue\n"
     ]
    }
   ],
   "source": [
    "name = \"Alice\"\n",
    "number = 4\n",
    "color = \"blue\"\n",
    "\n",
    "print(\"My name is\", name, \", my favorite number is\", number, \"and my favorite color is\", color) # Print multiple things together"
   ]
  },
  {
   "cell_type": "code",
   "execution_count": 7,
   "metadata": {},
   "outputs": [
    {
     "name": "stdout",
     "output_type": "stream",
     "text": [
      "List: [1, 2, 3, 4, 5]\n",
      "Dictionary: {'Chris': 'Cambridge', 'Jesus': 'CEMFI'}\n"
     ]
    }
   ],
   "source": [
    "numbers = [1, 2, 3, 4, 5]\n",
    "print(\"List:\", numbers)       # Print a list\n",
    "\n",
    "dictionary = {\"Chris\": \"Cambridge\", \"Jesus\": \"CEMFI\"}\n",
    "print(\"Dictionary:\", dictionary)  # Print a dictionary"
   ]
  },
  {
   "cell_type": "markdown",
   "metadata": {},
   "source": [
    "- **f-strings for Formatted Output**\n",
    "    - Python’s f-strings provide a convenient way to embed variables and expressions inside string literals. \n",
    "    - Just add an `f` before the string and use curly braces `{}` to include variables or expressions.\n",
    "    - It's essentially the same as using concatenation within `print()`, but allows for more readable and formatted output.\n"
   ]
  },
  {
   "cell_type": "code",
   "execution_count": 8,
   "metadata": {},
   "outputs": [
    {
     "name": "stdout",
     "output_type": "stream",
     "text": [
      "My name is Alice , my favorite number is 4 and my favorite color is blue\n",
      "My name is Alice , my favorite number is 4 and my favorite color is blue.\n"
     ]
    }
   ],
   "source": [
    "# Print using regular string concatenation\n",
    "print(\"My name is\", name, \", my favorite number is\", number, \"and my favorite color is\", color)\n",
    "\n",
    "# Print using f-string\n",
    "print(f\"My name is {name} , my favorite number is {number} and my favorite color is {color}.\")"
   ]
  },
  {
   "cell_type": "code",
   "execution_count": 9,
   "metadata": {},
   "outputs": [
    {
     "name": "stdout",
     "output_type": "stream",
     "text": [
      "Jesus is such a cool teacher... I am learning so much that I will get a 10 in the exam!\n"
     ]
    }
   ],
   "source": [
    "name = [\"Jesus\", \"Joel\"]\n",
    "adj1 = [\"cool\", \"boring\"]\n",
    "adj2 = [\"much\", \"little\"]\n",
    "number = [10, 0]\n",
    "\n",
    "i = 0\n",
    "print(f\"{name[i]} is such a {adj1[i]} teacher... I am learning so {adj2[i]} that I will get a {number[i]} in the exam!\")"
   ]
  },
  {
   "cell_type": "markdown",
   "metadata": {},
   "source": [
    "# **4. Basics of Python syntax**\n",
    "\n",
    "<hr>\n",
    "\n",
    "Python syntax is determined by the fact that:\n",
    "\n",
    "- Python is an interpreted language. By this we mean, that the Python interpreter will run a program by executing and evaluating one line at a time and in a sequential manner. That is, the source code is executed by interpreter line-by-line, without the need for compilation into machine code beforehand\n",
    "\n",
    "- Python is an **O**bject-**O**riented **P**rogramming (OOP) language. Everything we define in our code exists within the interpreter as Python object, meaning it will have its associated **attributes** and **methods**. \n",
    "\n",
    "    - **Attributes** are values associated with an object, they are defined by the class of an object. \n",
    "        - Typically, we call objects with the syntax `object.attribute_name`.\n",
    "\n",
    "    - **Methods** are functions associated with objects, which can access the attributes of the object. \n",
    "        - Typically, we use methods with the syntax `object.method_name()`."
   ]
  },
  {
   "cell_type": "code",
   "execution_count": 10,
   "metadata": {},
   "outputs": [
    {
     "name": "stdout",
     "output_type": "stream",
     "text": [
      "What part of X is real? 5.1\n",
      "What part of X is complex? 2.0\n"
     ]
    }
   ],
   "source": [
    "x = 5.1 + 2j\n",
    "print('What part of X is real?', x.real) # This is an attribute of the variable x \n",
    "print('What part of X is complex?', x.imag) # This is an attribute of the variable x"
   ]
  },
  {
   "cell_type": "code",
   "execution_count": 11,
   "metadata": {},
   "outputs": [
    {
     "name": "stdout",
     "output_type": "stream",
     "text": [
      "Is `real_part` an integer? False\n"
     ]
    }
   ],
   "source": [
    "real_part = x.real\n",
    "print('Is `real_part` an integer?', real_part.is_integer()) # .is_integer() is a method "
   ]
  },
  {
   "cell_type": "code",
   "execution_count": 12,
   "metadata": {},
   "outputs": [
    {
     "name": "stdout",
     "output_type": "stream",
     "text": [
      "What type of variable is x? <class 'complex'>\n",
      "What type of variable is real_part? <class 'float'>\n"
     ]
    }
   ],
   "source": [
    "print('What type of variable is x?', type(x)) # type() is a function\n",
    "print('What type of variable is real_part?', type(real_part)) # this is a function"
   ]
  },
  {
   "cell_type": "code",
   "execution_count": 13,
   "metadata": {},
   "outputs": [
    {
     "data": {
      "text/plain": [
       "'hello'"
      ]
     },
     "execution_count": 13,
     "metadata": {},
     "output_type": "execute_result"
    }
   ],
   "source": [
    "x = \"Hello\"\n",
    "x.lower()"
   ]
  },
  {
   "cell_type": "markdown",
   "metadata": {},
   "source": [
    "## **4.1 Creating variables**\n",
    "\n",
    "> Nothing prevents Python from rewriting variables. So if we first do `x=5` and then `x=6` we will automatically rewrite the variable `x` to 6. \n",
    "\n",
    "Variables allow us to define names for objects we will store in memory and use in our program. This call by object reference system implies that after we assign the name to an object, we can access the object by that reference name. For instance, `'x'` above is referencing to the memory object that is storing `5.2`. We can create a new variable `x2` that contains the same elements as `x`: "
   ]
  },
  {
   "cell_type": "code",
   "execution_count": 14,
   "metadata": {},
   "outputs": [
    {
     "data": {
      "text/plain": [
       "2"
      ]
     },
     "execution_count": 14,
     "metadata": {},
     "output_type": "execute_result"
    }
   ],
   "source": [
    "x = 2\n",
    "y = x\n",
    "x"
   ]
  },
  {
   "cell_type": "markdown",
   "metadata": {},
   "source": [
    "Both variables are the same, because they are both refering to the same memory object. However, because numbers are inmutable objects, changes to one won't affect the other. "
   ]
  },
  {
   "cell_type": "code",
   "execution_count": 15,
   "metadata": {},
   "outputs": [
    {
     "name": "stdout",
     "output_type": "stream",
     "text": [
      "This is 'x' after we sum 5 to it: 7\n",
      "This is our originary 'y', which hasn't changed 2\n"
     ]
    }
   ],
   "source": [
    "x = x + 5\n",
    "print(\"This is 'x' after we sum 5 to it:\", x)\n",
    "print(\"This is our originary 'y', which hasn't changed\", y)"
   ]
  },
  {
   "cell_type": "markdown",
   "metadata": {},
   "source": [
    "> Operation signs: additions(`+`), substractions(`-`), multiplication (`*`), division (`/`), exponent(`**`), remainder of division aka modulo (`%`)"
   ]
  },
  {
   "cell_type": "markdown",
   "metadata": {},
   "source": [
    "Immutable objects are also *strings* and *tuples* (more on this later), but there are also mutable objects like *lists*. \n",
    "\n",
    "<span style=\"color:red\"> In the case of **mutable objects**, if we create two variables that are just referencing the same, changing one **will affect** the other because both variables refer to the same memory object that has been modified.  </span>"
   ]
  },
  {
   "cell_type": "code",
   "execution_count": 16,
   "metadata": {},
   "outputs": [
    {
     "name": "stdout",
     "output_type": "stream",
     "text": [
      "This is 'y2' variable after we add a new string: ['abc', 'def', 'ghi']\n",
      "This is our originary 'y':  ['abc', 'def', 'ghi']\n"
     ]
    }
   ],
   "source": [
    "y = ['abc','def']\n",
    "y2 = y\n",
    "y2.append('ghi')\n",
    "\n",
    "print(\"This is 'y2' variable after we add a new string:\", y2)\n",
    "print(\"This is our originary 'y': \", y)"
   ]
  },
  {
   "cell_type": "markdown",
   "metadata": {},
   "source": [
    "We can also assign variable names to different objects in the same code line separating them through commas. "
   ]
  },
  {
   "cell_type": "code",
   "execution_count": 17,
   "metadata": {},
   "outputs": [
    {
     "name": "stdout",
     "output_type": "stream",
     "text": [
      "one = 'abc'\n",
      "two = 'def'\n",
      "three = 'ghi'\n"
     ]
    }
   ],
   "source": [
    "one, two, three = 'abc', 'def', 'ghi'\n",
    "print(f\"{one = }\")\n",
    "print(f\"{two = }\")\n",
    "print(f\"{three = }\")"
   ]
  },
  {
   "cell_type": "markdown",
   "metadata": {},
   "source": [
    "## **4.2 Naming variables: good practices**\n",
    "\n",
    "Just as in writing regular text, coding also involves an idyosincratic coding style that often results in differences between two individuals' code, even if they are accomplishing the same task or using the same functions. This divergence is especially noticeable in variable naming. However, whether we are more of a concise or descriptive type, there are some rules and good practices for everyone: \n",
    "1. Names can only contain upper and lower case letters, underscores (_), numbers. \n",
    "    > Important: Python is case sensitive, which means that variables with different capitalization are considered distinct (i.e., `Abc`, `abc` and `ABC` are all different)\n",
    "2. Names can never start with a digit number, only letters or underscore. \n",
    "3. They cannot be **keywords** (Python language reserved words).\n",
    "4. We typically use only lower case letters for variables, and reserve upper case letters for parameters or constants. \n",
    "5. Names should be self-explaining and balance out brevity and explicability. Typically, we reserve names for variables, verbs for attributes, adjectives for booleans.\n",
    "6. We can use names in any language, but in general English is preferred so that anyone could follow the code.\n",
    "7. Avoid using built-in function names because that will overwrite the function (i.e., if we write `type` we will no longer be able to use `type` to access the `type' of variables)."
   ]
  },
  {
   "cell_type": "code",
   "execution_count": 18,
   "metadata": {},
   "outputs": [],
   "source": [
    "# False = 1 # This would throw a SyntaxError"
   ]
  },
  {
   "cell_type": "code",
   "execution_count": 19,
   "metadata": {},
   "outputs": [
    {
     "name": "stdout",
     "output_type": "stream",
     "text": [
      "Python keywords (don't use any of these words to name a variable!):\n",
      "- False\n",
      "- None\n",
      "- True\n",
      "- and\n",
      "- as\n",
      "- assert\n",
      "- async\n",
      "- await\n",
      "- break\n",
      "- class\n",
      "- continue\n",
      "- def\n",
      "- del\n",
      "- elif\n",
      "- else\n",
      "- except\n",
      "- finally\n",
      "- for\n",
      "- from\n",
      "- global\n",
      "- if\n",
      "- import\n",
      "- in\n",
      "- is\n",
      "- lambda\n",
      "- nonlocal\n",
      "- not\n",
      "- or\n",
      "- pass\n",
      "- raise\n",
      "- return\n",
      "- try\n",
      "- while\n",
      "- with\n",
      "- yield\n"
     ]
    }
   ],
   "source": [
    "import keyword\n",
    "\n",
    "# Get all Python keywords\n",
    "keywords = keyword.kwlist\n",
    "\n",
    "print(\"Python keywords (don't use any of these words to name a variable!):\")\n",
    "for kw in keywords:\n",
    "    print(f\"- {kw}\")\n"
   ]
  },
  {
   "cell_type": "markdown",
   "metadata": {},
   "source": [
    "## **4.3 Data types**\n",
    "\n",
    "Unlike some other programming languages, Python dynamically infers the type of a variable based on the assigned value. We can access the type of variables using the `type()` function. \n",
    "\n",
    "### **4.3.1. Primitive data types**\n",
    "\n",
    "Primitive data types are: `strings`, `integers`, `floats`, `booleans`, `None`. \n",
    "\n",
    "<!--- While I am hard-coding some examples for booleans,  it's more common for them to be generated as the outcome of assessing a condition within a function (i.e., Am I Jesus? True). In fact, booleans are typically obtained by comparisons and can be manipulated with logical operations (`and`, `not`, `or`)\n",
    "---> "
   ]
  },
  {
   "cell_type": "code",
   "execution_count": 20,
   "metadata": {},
   "outputs": [
    {
     "data": {
      "text/plain": [
       "int"
      ]
     },
     "execution_count": 20,
     "metadata": {},
     "output_type": "execute_result"
    }
   ],
   "source": [
    "this_is_int = 5\n",
    "type(this_is_int)"
   ]
  },
  {
   "cell_type": "code",
   "execution_count": 21,
   "metadata": {},
   "outputs": [
    {
     "data": {
      "text/plain": [
       "float"
      ]
     },
     "execution_count": 21,
     "metadata": {},
     "output_type": "execute_result"
    }
   ],
   "source": [
    "this_is_float = 5.2\n",
    "type(this_is_float)"
   ]
  },
  {
   "cell_type": "code",
   "execution_count": 22,
   "metadata": {},
   "outputs": [
    {
     "data": {
      "text/plain": [
       "str"
      ]
     },
     "execution_count": 22,
     "metadata": {},
     "output_type": "execute_result"
    }
   ],
   "source": [
    "this_is_string = 'abc'\n",
    "type(this_is_string)"
   ]
  },
  {
   "cell_type": "code",
   "execution_count": 23,
   "metadata": {},
   "outputs": [
    {
     "data": {
      "text/plain": [
       "bool"
      ]
     },
     "execution_count": 23,
     "metadata": {},
     "output_type": "execute_result"
    }
   ],
   "source": [
    "this_is_bool = True\n",
    "type(this_is_bool)"
   ]
  },
  {
   "cell_type": "code",
   "execution_count": 24,
   "metadata": {},
   "outputs": [
    {
     "name": "stdout",
     "output_type": "stream",
     "text": [
      "5 > 3\t True\n",
      "5 > 5\t False\n",
      "5 != 4.9 True\n"
     ]
    }
   ],
   "source": [
    "# More booleans examples\n",
    "print('5 > 3\\t', 5 > 3)      \n",
    "print('5 > 5\\t', 5 > 5)       \n",
    "print('5 != 4.9', 5 != 4.9)"
   ]
  },
  {
   "cell_type": "code",
   "execution_count": 25,
   "metadata": {},
   "outputs": [
    {
     "data": {
      "text/plain": [
       "NoneType"
      ]
     },
     "execution_count": 25,
     "metadata": {},
     "output_type": "execute_result"
    }
   ],
   "source": [
    "this_is_None = None\n",
    "type(this_is_None)"
   ]
  },
  {
   "cell_type": "markdown",
   "metadata": {},
   "source": [
    "### **4.3.2 Container data types**\n",
    "\n",
    "Besides the **primitive datatypes**, there are also **containers datatypes** which are a collection of objects in a particular given structure. They can be tuples, lists or dictionaries. "
   ]
  },
  {
   "cell_type": "markdown",
   "metadata": {},
   "source": [
    "\\- **Tuples**: fixed sequence of <span style=\"color:red\"> **immutable** </span> python objects. They are defined as a sequence of elements, separated by a comma between brackets (`()`) and can mix primitive data types. "
   ]
  },
  {
   "cell_type": "code",
   "execution_count": 26,
   "metadata": {},
   "outputs": [
    {
     "name": "stdout",
     "output_type": "stream",
     "text": [
      "<class 'tuple'> <class 'tuple'> <class 'tuple'> <class 'tuple'>\n"
     ]
    }
   ],
   "source": [
    "this_is_tuple = (0,1,2,3,4,5,6)\n",
    "this_is_tuple_str = ('a','b','c')\n",
    "this_is_tuple_mix = (2,'b',True)\n",
    "this_is_nested = ('a',(2,3,4),this_is_tuple_mix)\n",
    "\n",
    "print(type(this_is_tuple), type(this_is_tuple_str), type(this_is_tuple_mix), type(this_is_nested))"
   ]
  },
  {
   "cell_type": "markdown",
   "metadata": {},
   "source": [
    "We can acces its elements using indexing, which we call as `name_of_tuple[i]`, where `i` indicates the position of the element we want. \n",
    "- From left to right, <span style=\"color:orange\"> we start counting from `0`  </span>\n",
    "- From right to left, <span style=\"color:orange\"> we start counting from `-1` </span>"
   ]
  },
  {
   "cell_type": "code",
   "execution_count": 27,
   "metadata": {},
   "outputs": [
    {
     "name": "stdout",
     "output_type": "stream",
     "text": [
      "First element is 0\n",
      "Second element is 1\n",
      "Last element is 6\n"
     ]
    }
   ],
   "source": [
    "this_is_tuple = (0,1,2,3,4,5,6)\n",
    "\n",
    "print(f\"First element is {this_is_tuple[0]}\")\n",
    "print(f\"Second element is {this_is_tuple[1]}\")\n",
    "\n",
    "print(f\"Last element is {this_is_tuple[-1]}\")"
   ]
  },
  {
   "cell_type": "markdown",
   "metadata": {},
   "source": [
    "To index a range of elements, we can use the syntax `name_of_tuple[i:j]`, which will return all elements from `i` to `j-1`."
   ]
  },
  {
   "cell_type": "code",
   "execution_count": 28,
   "metadata": {},
   "outputs": [
    {
     "data": {
      "text/plain": [
       "(0, 1)"
      ]
     },
     "execution_count": 28,
     "metadata": {},
     "output_type": "execute_result"
    }
   ],
   "source": [
    "this_is_tuple[0:2]"
   ]
  },
  {
   "cell_type": "markdown",
   "metadata": {},
   "source": [
    "> Notice that for Python, the `=` is not the mathematical equality sign. It simply establishes an assignment saying left-hand side is right-hand side. When we want to make comparisons to check equality, we use `==`. \n",
    "\n",
    "For example, if we want to check whether the two tuples below are equal\n",
    "```python\n",
    "this_is_tuple = (0,1,2,3,4,5,6)\n",
    "this_is_tuple_str = ('a','b','c')\n",
    "```\n",
    "we do:"
   ]
  },
  {
   "cell_type": "code",
   "execution_count": 29,
   "metadata": {},
   "outputs": [
    {
     "name": "stdout",
     "output_type": "stream",
     "text": [
      "False\n"
     ]
    }
   ],
   "source": [
    "print(this_is_tuple == this_is_tuple_str)"
   ]
  },
  {
   "cell_type": "markdown",
   "metadata": {},
   "source": [
    "Tuples are immutable. Immutability means that once created, their elements cannot be change (*they don't support item assignment*)"
   ]
  },
  {
   "cell_type": "code",
   "execution_count": 30,
   "metadata": {},
   "outputs": [],
   "source": [
    "# t = (1, 2, 3)\n",
    "# t[0] = 10  # This would raise a TypeError"
   ]
  },
  {
   "cell_type": "code",
   "execution_count": 31,
   "metadata": {},
   "outputs": [],
   "source": [
    "# t.append(4)  # This would raise an AttributeError"
   ]
  },
  {
   "cell_type": "markdown",
   "metadata": {},
   "source": [
    "While tuples are immutable, we can operate with them in different ways. We can concatenate them using the `+` sign, we can repeat them a n number of times using `*n*`, and we can unpack them. "
   ]
  },
  {
   "cell_type": "code",
   "execution_count": 32,
   "metadata": {},
   "outputs": [
    {
     "name": "stdout",
     "output_type": "stream",
     "text": [
      "(0, 1, 2, 3, 4, 5, 6, 'a', 'b', 'c', 2, 'b', True)\n"
     ]
    }
   ],
   "source": [
    "print(this_is_tuple + this_is_tuple_str + this_is_tuple_mix) # concatenating"
   ]
  },
  {
   "cell_type": "code",
   "execution_count": 33,
   "metadata": {},
   "outputs": [
    {
     "name": "stdout",
     "output_type": "stream",
     "text": [
      "(2, 'b', True, 2, 'b', True, 2, 'b', True)\n"
     ]
    }
   ],
   "source": [
    "print(this_is_tuple_mix*3) # repeating "
   ]
  },
  {
   "cell_type": "code",
   "execution_count": 34,
   "metadata": {},
   "outputs": [
    {
     "name": "stdout",
     "output_type": "stream",
     "text": [
      "a\n"
     ]
    }
   ],
   "source": [
    "unpack1, unpack2, unpack3 = this_is_tuple_str # unpack \n",
    "print(unpack1)"
   ]
  },
  {
   "cell_type": "code",
   "execution_count": 35,
   "metadata": {},
   "outputs": [
    {
     "name": "stdout",
     "output_type": "stream",
     "text": [
      "6\n"
     ]
    }
   ],
   "source": [
    "*_ , only_third_e = this_is_tuple # unpack. Note: if we use `*_` in the unpack, we will discard some elements\n",
    "print(only_third_e)"
   ]
  },
  {
   "cell_type": "markdown",
   "metadata": {},
   "source": [
    "\\- **Lists**: modifiable sequence of <span style=\"color:green\"> **mutable** </span> Python objects (i.e., a tuple that we can change). They are also defined as a comma separated sequence of elements, but differently from tuples, with square brackets (`[]`)"
   ]
  },
  {
   "cell_type": "code",
   "execution_count": 36,
   "metadata": {},
   "outputs": [
    {
     "name": "stdout",
     "output_type": "stream",
     "text": [
      "[1, 2, 3]\n"
     ]
    }
   ],
   "source": [
    "this_is_list = [1,2,3]\n",
    "print(this_is_list)"
   ]
  },
  {
   "cell_type": "markdown",
   "metadata": {},
   "source": [
    "We can slice them in the same way as tuples. "
   ]
  },
  {
   "cell_type": "code",
   "execution_count": 37,
   "metadata": {},
   "outputs": [
    {
     "name": "stdout",
     "output_type": "stream",
     "text": [
      "3\n",
      "[1, 2]\n"
     ]
    }
   ],
   "source": [
    "print(this_is_list[2]) # 3rd element\n",
    "print(this_is_list[0:2]) # starts at 0, ends at 2-1 (i.e., 1 which is the second element)"
   ]
  },
  {
   "cell_type": "markdown",
   "metadata": {},
   "source": [
    "We can:\n",
    " - **add** elements using `append()` \n",
    " - **insert** elements in specific positions using `insert(positions,what we want to insert)`\n",
    " - **modify** elements using `name_of_list[i] = new_value`\n",
    " - **remove** elements using `remove(what we want to remove)` or `pop(i)`, which removes the element at position `i` and returns it.\n",
    "    - Note: `remove()` will remove the first occurrence of the element, while `pop()` will remove the element at the specified index and return it. If no index is specified, `pop()` removes and returns the last item in the list."
   ]
  },
  {
   "cell_type": "code",
   "execution_count": 38,
   "metadata": {},
   "outputs": [
    {
     "name": "stdout",
     "output_type": "stream",
     "text": [
      "[1, 2, 3, 'this teacher is so fun']\n"
     ]
    }
   ],
   "source": [
    "# Adding elements to a list\n",
    "this_is_list = [1,2,3]\n",
    "\n",
    "this_is_list.append('this teacher is so fun') # This will add the string to the end of the list\n",
    "print(this_is_list)"
   ]
  },
  {
   "cell_type": "code",
   "execution_count": 39,
   "metadata": {},
   "outputs": [
    {
     "name": "stdout",
     "output_type": "stream",
     "text": [
      "[1, 2, 'hello', 3]\n"
     ]
    }
   ],
   "source": [
    "# Inserting elements at a specific position\n",
    "this_is_list = [1,2,3]\n",
    "\n",
    "this_is_list.insert(2,'hello')  # let's insert 'hello' as the second element\n",
    "print(this_is_list)"
   ]
  },
  {
   "cell_type": "code",
   "execution_count": 40,
   "metadata": {},
   "outputs": [
    {
     "name": "stdout",
     "output_type": "stream",
     "text": [
      "[1, 2]\n",
      "[1]\n"
     ]
    }
   ],
   "source": [
    "# Removing elements from a list using `pop``\n",
    "this_is_list = [1,2,3]\n",
    "\n",
    "this_is_list.pop(2) # This will remove the third element (index 2) of the existing list, which is [1,2,3]\n",
    "print(this_is_list)\n",
    "\n",
    "this_is_list.pop() # This will remove the last element of this_is_list, which now is [1,2]\n",
    "print(this_is_list)"
   ]
  },
  {
   "cell_type": "code",
   "execution_count": 41,
   "metadata": {},
   "outputs": [
    {
     "name": "stdout",
     "output_type": "stream",
     "text": [
      "['b', 'c', 'a', 'b', 'c']\n"
     ]
    }
   ],
   "source": [
    "# Removing elements from a list using `remove`\n",
    "this_is_list = ['a', 'b', 'c', 'a', 'b', 'c']\n",
    "\n",
    "this_is_list.remove('a') # This will remove the first occurrence of 'a'\n",
    "print(this_is_list)"
   ]
  },
  {
   "cell_type": "markdown",
   "metadata": {},
   "source": [
    "\\- **Dictionaries**: unordered collection of items. Items consist on pairs of Python objects named keys and values. Each key is associated with a unique value, like in a dictionary entry, which allows us to access, retrieve and modify its values. Dictionaries are typically created using curly braces as \n",
    "\n",
    "```python \n",
    "dictionary = {\n",
    "        key1 : value1, \n",
    "        key2 : value2,\n",
    "        ...\n",
    "        keyN : valueN\n",
    "}\n",
    "```"
   ]
  },
  {
   "cell_type": "code",
   "execution_count": 42,
   "metadata": {},
   "outputs": [
    {
     "name": "stdout",
     "output_type": "stream",
     "text": [
      "{'Monday': ['Go to work', 'Attend meetings', 'Exercise', 'Cook dinner'], 'Tuesday': ['Work on projects', 'Run errands', 'Visit the gym'], 'Wednesday': ['Work remotely', 'Attend class', 'Grocery shopping'], 'Thursday': ['Client meetings', 'Volunteer', 'Cook dinner'], 'Friday': ['Finish work tasks', 'Meet friends for dinner', 'Movie night']}\n"
     ]
    }
   ],
   "source": [
    "weekday_activities = {\n",
    "    \"Monday\": [\"Go to work\", \"Attend meetings\", \"Exercise\", \"Cook dinner\"],\n",
    "    \"Tuesday\": [\"Work on projects\", \"Run errands\", \"Visit the gym\"],\n",
    "    \"Wednesday\": [\"Work remotely\", \"Attend class\", \"Grocery shopping\"],\n",
    "    \"Thursday\": [\"Client meetings\", \"Volunteer\", \"Cook dinner\"],\n",
    "    \"Friday\": [\"Finish work tasks\", \"Meet friends for dinner\", \"Movie night\"],\n",
    "}\n",
    "\n",
    "print(weekday_activities)"
   ]
  },
  {
   "cell_type": "markdown",
   "metadata": {},
   "source": [
    "To access one of the elements, we can look for the corresponding key. "
   ]
  },
  {
   "cell_type": "code",
   "execution_count": 43,
   "metadata": {},
   "outputs": [
    {
     "data": {
      "text/plain": [
       "['Go to work', 'Attend meetings', 'Exercise', 'Cook dinner']"
      ]
     },
     "execution_count": 43,
     "metadata": {},
     "output_type": "execute_result"
    }
   ],
   "source": [
    "weekday_activities['Monday']"
   ]
  },
  {
   "cell_type": "markdown",
   "metadata": {},
   "source": [
    "We can also obtain all keys and values, through methods `keys()`, `values()`, `items()`. The results of these methods, although they migh seems like lists, cannot be subscripted. "
   ]
  },
  {
   "cell_type": "code",
   "execution_count": 44,
   "metadata": {},
   "outputs": [
    {
     "name": "stdout",
     "output_type": "stream",
     "text": [
      "dict_keys(['Monday', 'Tuesday', 'Wednesday', 'Thursday', 'Friday'])\n"
     ]
    }
   ],
   "source": [
    "print(weekday_activities.keys())\n",
    "\n",
    "# weekday_activities.keys()[0] # This will raise a TypeError because keys() returns a view object, not a list"
   ]
  },
  {
   "cell_type": "code",
   "execution_count": 45,
   "metadata": {},
   "outputs": [
    {
     "name": "stdout",
     "output_type": "stream",
     "text": [
      "dict_values([['Go to work', 'Attend meetings', 'Exercise', 'Cook dinner'], ['Work on projects', 'Run errands', 'Visit the gym'], ['Work remotely', 'Attend class', 'Grocery shopping'], ['Client meetings', 'Volunteer', 'Cook dinner'], ['Finish work tasks', 'Meet friends for dinner', 'Movie night']])\n"
     ]
    }
   ],
   "source": [
    "print(weekday_activities.values())\n",
    "\n",
    "# weekday_activities.values()[0] # This will raise a TypeError because values() returns a view object, not a list"
   ]
  },
  {
   "cell_type": "code",
   "execution_count": 46,
   "metadata": {},
   "outputs": [
    {
     "name": "stdout",
     "output_type": "stream",
     "text": [
      "dict_items([('Monday', ['Go to work', 'Attend meetings', 'Exercise', 'Cook dinner']), ('Tuesday', ['Work on projects', 'Run errands', 'Visit the gym']), ('Wednesday', ['Work remotely', 'Attend class', 'Grocery shopping']), ('Thursday', ['Client meetings', 'Volunteer', 'Cook dinner']), ('Friday', ['Finish work tasks', 'Meet friends for dinner', 'Movie night'])])\n"
     ]
    }
   ],
   "source": [
    "print(weekday_activities.items())\n",
    "\n",
    "# weekday_activities.items()[0] # This will raise a TypeError because items() returns a view object, not a list"
   ]
  },
  {
   "cell_type": "markdown",
   "metadata": {},
   "source": [
    "We can add new entries by specifying a new key and value pair. "
   ]
  },
  {
   "cell_type": "code",
   "execution_count": 47,
   "metadata": {},
   "outputs": [
    {
     "data": {
      "text/plain": [
       "{'Monday': ['Go to work', 'Attend meetings', 'Exercise', 'Cook dinner'],\n",
       " 'Tuesday': ['Work on projects', 'Run errands', 'Visit the gym'],\n",
       " 'Wednesday': ['Work remotely', 'Attend class', 'Grocery shopping'],\n",
       " 'Thursday': ['Client meetings', 'Volunteer', 'Cook dinner'],\n",
       " 'Friday': ['Finish work tasks', 'Meet friends for dinner', 'Movie night'],\n",
       " 'Saturday': 'Fondue night'}"
      ]
     },
     "execution_count": 47,
     "metadata": {},
     "output_type": "execute_result"
    }
   ],
   "source": [
    "weekday_activities['Saturday'] = 'Fondue night'\n",
    "weekday_activities"
   ]
  },
  {
   "cell_type": "markdown",
   "metadata": {},
   "source": [
    "It is also possible to use `.update()` to add new entries and modify other."
   ]
  },
  {
   "cell_type": "code",
   "execution_count": 48,
   "metadata": {},
   "outputs": [
    {
     "data": {
      "text/plain": [
       "{'Monday': ['Go to work', 'Attend meetings', 'Exercise', 'Cook dinner'],\n",
       " 'Tuesday': ['Work on projects', 'Run errands', 'Visit the gym'],\n",
       " 'Wednesday': ['Work remotely', 'Attend class', 'Grocery shopping'],\n",
       " 'Thursday': ['Client meetings', 'Volunteer', 'Cook dinner'],\n",
       " 'Friday': 'Birthday Party',\n",
       " 'Saturday': 'Fondue night',\n",
       " 'Sunday': 'Hike'}"
      ]
     },
     "execution_count": 48,
     "metadata": {},
     "output_type": "execute_result"
    }
   ],
   "source": [
    "weekday_activities.update({'Friday':'Birthday Party', 'Sunday':'Hike'})\n",
    "weekday_activities"
   ]
  },
  {
   "cell_type": "markdown",
   "metadata": {},
   "source": [
    "Notice, however that if we already have an entry with a given key and we perform a new assign, we will overwrite it. "
   ]
  },
  {
   "cell_type": "code",
   "execution_count": 49,
   "metadata": {},
   "outputs": [
    {
     "data": {
      "text/plain": [
       "{'Monday': ['Go to work', 'Attend meetings', 'Exercise', 'Cook dinner'],\n",
       " 'Tuesday': ['Work on projects', 'Run errands', 'Visit the gym'],\n",
       " 'Wednesday': ['Work remotely', 'Attend class', 'Grocery shopping'],\n",
       " 'Thursday': ['Client meetings', 'Volunteer', 'Cook dinner'],\n",
       " 'Friday': 'Cinema',\n",
       " 'Saturday': 'Fondue night',\n",
       " 'Sunday': 'Hike'}"
      ]
     },
     "execution_count": 49,
     "metadata": {},
     "output_type": "execute_result"
    }
   ],
   "source": [
    "weekday_activities['Friday']='Cinema'\n",
    "weekday_activities"
   ]
  },
  {
   "cell_type": "markdown",
   "metadata": {},
   "source": [
    "We can again use `pop` to remove elements specifying a key. Equivalently, we can use `del` to remove an entire entry. "
   ]
  },
  {
   "cell_type": "code",
   "execution_count": 50,
   "metadata": {},
   "outputs": [
    {
     "data": {
      "text/plain": [
       "{'Tuesday': ['Work on projects', 'Run errands', 'Visit the gym'],\n",
       " 'Wednesday': ['Work remotely', 'Attend class', 'Grocery shopping'],\n",
       " 'Thursday': ['Client meetings', 'Volunteer', 'Cook dinner'],\n",
       " 'Friday': 'Cinema',\n",
       " 'Saturday': 'Fondue night',\n",
       " 'Sunday': 'Hike'}"
      ]
     },
     "execution_count": 50,
     "metadata": {},
     "output_type": "execute_result"
    }
   ],
   "source": [
    "weekday_activities.pop('Monday')\n",
    "weekday_activities"
   ]
  },
  {
   "cell_type": "code",
   "execution_count": 51,
   "metadata": {},
   "outputs": [
    {
     "data": {
      "text/plain": [
       "{'Wednesday': ['Work remotely', 'Attend class', 'Grocery shopping'],\n",
       " 'Thursday': ['Client meetings', 'Volunteer', 'Cook dinner'],\n",
       " 'Friday': 'Cinema',\n",
       " 'Saturday': 'Fondue night',\n",
       " 'Sunday': 'Hike'}"
      ]
     },
     "execution_count": 51,
     "metadata": {},
     "output_type": "execute_result"
    }
   ],
   "source": [
    "del weekday_activities['Tuesday']\n",
    "weekday_activities"
   ]
  },
  {
   "cell_type": "markdown",
   "metadata": {},
   "source": [
    "Using `items()` we can iterate through each entry in the dictionary. To do this, for each entry, we unpack the two elements that appear in the tuple generated by `.items()`"
   ]
  },
  {
   "cell_type": "code",
   "execution_count": 52,
   "metadata": {},
   "outputs": [
    {
     "name": "stdout",
     "output_type": "stream",
     "text": [
      "My schedule for Wednesday is ['Work remotely', 'Attend class', 'Grocery shopping']\n",
      "My schedule for Thursday is ['Client meetings', 'Volunteer', 'Cook dinner']\n",
      "My schedule for Friday is Cinema\n",
      "My schedule for Saturday is Fondue night\n",
      "My schedule for Sunday is Hike\n"
     ]
    }
   ],
   "source": [
    "for day, activity in weekday_activities.items():\n",
    "    print('My schedule for', day, 'is', activity)"
   ]
  },
  {
   "cell_type": "markdown",
   "metadata": {},
   "source": [
    "Also, if he have a collecion of keys and values, we can write them as a dictionary using .`zip(k,v)`. This will automatically assign the keys to the values in an ordered manner (i.e., first element of the key list cooresponds to first element of the value list)."
   ]
  },
  {
   "cell_type": "code",
   "execution_count": 53,
   "metadata": {},
   "outputs": [
    {
     "data": {
      "text/plain": [
       "{'30_November': \"Chris' birthday\", '14_December': \"Jesus' birthday\"}"
      ]
     },
     "execution_count": 53,
     "metadata": {},
     "output_type": "execute_result"
    }
   ],
   "source": [
    "bday_dict = {} # initialize empty \n",
    "key_list = ('30_November','14_December')\n",
    "value_list= (\"Chris' birthday\", \"Jesus' birthday\")\n",
    "\n",
    "for key, value in zip(key_list, value_list):\n",
    "    bday_dict[key] = value\n",
    "    \n",
    "bday_dict"
   ]
  },
  {
   "cell_type": "markdown",
   "metadata": {},
   "source": [
    "## **4.4 Functions**\n",
    "\n",
    "Sometimes we find that our code is repeating the same few lines multiple times, or we are sharing the same lines in different scripts. **Functions** in Python allow us to encapsulate a set of instructions and reuse them throughout our code. This helps us avoid repeating the same code multiple times and makes our code more organized and easier to maintain, while the complexity of the function is abstracted away. \n",
    "\n",
    "In essence, functions contains three elements: the arguments, the commands we execute on them (i.e., the body of the function), and the return values. They have the following structure: \n",
    "```python\n",
    "def function_name(arg1, arg2):\n",
    "    # do something with argument 1 and argument 2 to get the result r3\n",
    "    return r3\n",
    "```\n",
    "\n",
    "It is also possible to avoid returning anything by specifying ```return None```  or nothing at all or even use `print()` expressions. "
   ]
  },
  {
   "cell_type": "code",
   "execution_count": 54,
   "metadata": {},
   "outputs": [],
   "source": [
    "import numpy as np\n",
    "\n",
    "def function_with_return(x,y):\n",
    "    return x+y\n",
    "\n",
    "def function_with_print(x,y):\n",
    "    print(x+y)"
   ]
  },
  {
   "cell_type": "code",
   "execution_count": 55,
   "metadata": {},
   "outputs": [
    {
     "data": {
      "text/plain": [
       "10"
      ]
     },
     "execution_count": 55,
     "metadata": {},
     "output_type": "execute_result"
    }
   ],
   "source": [
    "function_with_return(4,6)"
   ]
  },
  {
   "cell_type": "code",
   "execution_count": 56,
   "metadata": {},
   "outputs": [],
   "source": [
    "r1 = function_with_return(4,6)"
   ]
  },
  {
   "cell_type": "code",
   "execution_count": 57,
   "metadata": {},
   "outputs": [
    {
     "name": "stdout",
     "output_type": "stream",
     "text": [
      "10\n"
     ]
    }
   ],
   "source": [
    "print(r1)"
   ]
  },
  {
   "cell_type": "code",
   "execution_count": 58,
   "metadata": {},
   "outputs": [
    {
     "name": "stdout",
     "output_type": "stream",
     "text": [
      "10\n"
     ]
    }
   ],
   "source": [
    "function_with_print(4,6)"
   ]
  },
  {
   "cell_type": "code",
   "execution_count": 59,
   "metadata": {},
   "outputs": [
    {
     "name": "stdout",
     "output_type": "stream",
     "text": [
      "10\n"
     ]
    }
   ],
   "source": [
    "r2 = function_with_print(4,6)"
   ]
  },
  {
   "cell_type": "code",
   "execution_count": 60,
   "metadata": {},
   "outputs": [
    {
     "name": "stdout",
     "output_type": "stream",
     "text": [
      "None\n"
     ]
    }
   ],
   "source": [
    "print(r2)"
   ]
  },
  {
   "cell_type": "markdown",
   "metadata": {},
   "source": [
    "Although a function can have **multiple outputs returned**, it cannot have more than one `return` line (unless they are part of some conditions) because the function stops evaluating the code after it reaches the first `return`. "
   ]
  },
  {
   "cell_type": "code",
   "execution_count": 61,
   "metadata": {},
   "outputs": [
    {
     "data": {
      "text/plain": [
       "(8, 15)"
      ]
     },
     "execution_count": 61,
     "metadata": {},
     "output_type": "execute_result"
    }
   ],
   "source": [
    "def returns_two_vars(x,y):\n",
    "    return x+y,x*y\n",
    "\n",
    "returns_two_vars(3,5)"
   ]
  },
  {
   "cell_type": "markdown",
   "metadata": {},
   "source": [
    "And we could access them with our unpacking strategy"
   ]
  },
  {
   "cell_type": "code",
   "execution_count": 62,
   "metadata": {},
   "outputs": [
    {
     "name": "stdout",
     "output_type": "stream",
     "text": [
      "r1: 8\n",
      "r2: 15\n"
     ]
    }
   ],
   "source": [
    "r1,r2=returns_two_vars(3,5)\n",
    "print('r1:', r1)\n",
    "print('r2:', r2)"
   ]
  },
  {
   "cell_type": "code",
   "execution_count": 63,
   "metadata": {},
   "outputs": [],
   "source": [
    "def returns_two_vars(x,y):\n",
    "    return x+y\n",
    "    # return x*y # This return statement will not be evaluated. The function will exit after the first return statement is executed.\n",
    "    # return x**y"
   ]
  },
  {
   "cell_type": "markdown",
   "metadata": {},
   "source": [
    "Notice if we call as argument a variable that has been defined outside the function, it will automatically take that value (i.e., it's *global* to the function). If the variable is also defined inside, it will be *local* within the function."
   ]
  },
  {
   "cell_type": "code",
   "execution_count": 64,
   "metadata": {},
   "outputs": [],
   "source": [
    "global_var = 1\n",
    "\n",
    "def silly_function(input_var):\n",
    "    local_var = 2\n",
    "    output_var = global_var + local_var + input_var\n",
    "    return output_var"
   ]
  },
  {
   "cell_type": "code",
   "execution_count": 65,
   "metadata": {},
   "outputs": [
    {
     "data": {
      "text/plain": [
       "6"
      ]
     },
     "execution_count": 65,
     "metadata": {},
     "output_type": "execute_result"
    }
   ],
   "source": [
    "output_var = silly_function(3)\n",
    "output_var"
   ]
  },
  {
   "cell_type": "code",
   "execution_count": 66,
   "metadata": {},
   "outputs": [
    {
     "data": {
      "text/plain": [
       "1"
      ]
     },
     "execution_count": 66,
     "metadata": {},
     "output_type": "execute_result"
    }
   ],
   "source": [
    "global_var"
   ]
  },
  {
   "cell_type": "code",
   "execution_count": 67,
   "metadata": {},
   "outputs": [],
   "source": [
    "# input_var # This would raise a NameError because input_var is not defined outside the function"
   ]
  },
  {
   "cell_type": "code",
   "execution_count": 68,
   "metadata": {},
   "outputs": [],
   "source": [
    "# local_var # This would raise a NameError because local_var is inputted to the function, but has not been defined outside the function"
   ]
  },
  {
   "cell_type": "code",
   "execution_count": 69,
   "metadata": {},
   "outputs": [],
   "source": [
    "global_var = 'I am a GLOBAL variable and I am defined outside the function!'\n",
    "\n",
    "def silly_function(input_var):\n",
    "    \n",
    "    local_var = '\\nI am a LOCAL variable and I am **only** defined inside the function!'\n",
    "    \n",
    "    print(global_var + local_var + input_var)\n",
    "    \n",
    "    output_var = \"I am an OUTPUT variable and I am returned by the function!\"\n",
    "    \n",
    "    return output_var"
   ]
  },
  {
   "cell_type": "code",
   "execution_count": 70,
   "metadata": {},
   "outputs": [
    {
     "name": "stdout",
     "output_type": "stream",
     "text": [
      "I am a GLOBAL variable and I am defined outside the function!\n",
      "I am a LOCAL variable and I am **only** defined inside the function!\n",
      "I am an INPUT variable and I am passed to the function!\n"
     ]
    }
   ],
   "source": [
    "output_var = silly_function('\\nI am an INPUT variable and I am passed to the function!')"
   ]
  },
  {
   "cell_type": "code",
   "execution_count": 71,
   "metadata": {},
   "outputs": [
    {
     "data": {
      "text/plain": [
       "'I am an OUTPUT variable and I am returned by the function!'"
      ]
     },
     "execution_count": 71,
     "metadata": {},
     "output_type": "execute_result"
    }
   ],
   "source": [
    "output_var"
   ]
  },
  {
   "cell_type": "markdown",
   "metadata": {},
   "source": [
    "## **4.5 Control flow: branching and looping**\n",
    "Every script, and computer programs in general, consist of instructions that are executed sequentially from \"top\" to \"bottom\". This sequence is what we know as flow. It's possible to modify this sequential flow to include branching or repeating certain instructions. The statements that allow us to make these modifications are grouped under flow control. \n",
    "\n",
    "### **4.5.1  Branching: `if`, `elif`, `else`**\n",
    "\n",
    "Branching refers to the capacity to make decisions and execute distinct sets of statements depending on whether one or more conditions are met. In Python, branching departs from the `if` statement. \n",
    "\n",
    "```python\n",
    "if condition:\n",
    "    do line1\n",
    "    do line2\n",
    "```\n",
    "\n",
    "- If `condition` is found to be true, the code will perform `line1` and `line2`. \n",
    "- The way Python understands `line1` and `line2` are associated with the if statement is because of *identation* (i.e., white space to the left of the beginning of a line). \n",
    "    - The 4 spaces from the left to where `do line1` is written constitute the Python ident. \n",
    "    - We can use the `tab` key to get the ident and `shift+tab` to remove one ident. \n",
    "    - Idents are cumulatives, so if we had two blocks, the lines within the second would have to have two idents. \n",
    "\n",
    "For instance, the line below would perform `line1` only if the condition is true, and after it would perform `line2` for all cases. \n",
    "\n",
    "```python\n",
    "if condition:\n",
    "    do line1\n",
    "    \n",
    "do line2\n",
    "```"
   ]
  },
  {
   "cell_type": "code",
   "execution_count": 72,
   "metadata": {},
   "outputs": [
    {
     "name": "stdout",
     "output_type": "stream",
     "text": [
      "Hey! you are in the indented block\n",
      "The entire month of February is considered to be in Winter\n",
      "February is a month of the year\n"
     ]
    }
   ],
   "source": [
    "month = 'February'\n",
    "if (month=='January') or (month=='February'):\n",
    "    print('Hey! you are in the indented block')\n",
    "    print('The entire month of', month, 'is considered to be in Winter')\n",
    "\n",
    "print(month, 'is a month of the year')"
   ]
  },
  {
   "cell_type": "code",
   "execution_count": 73,
   "metadata": {},
   "outputs": [
    {
     "name": "stdout",
     "output_type": "stream",
     "text": [
      "June is a month of the year\n"
     ]
    }
   ],
   "source": [
    "month = 'June'\n",
    "if (month=='January') or (month=='February'):\n",
    "    print('Hey! you are in the indented block')\n",
    "    print('The entire month of', month, 'is considered to be in the winter')\n",
    "\n",
    "print(month, 'is a month of the year')"
   ]
  },
  {
   "cell_type": "markdown",
   "metadata": {},
   "source": [
    "But what if we still want our branch to do something when the first condition is not met? We can achieve this by specifying a new action with `else`:\n",
    "```python\n",
    "if condition1:\n",
    "    do line1\n",
    "else:\n",
    "    do line2\n",
    "```\n",
    "Notice that, whenever condition1 is not true, the `else` condition will imply we perform line2. "
   ]
  },
  {
   "cell_type": "code",
   "execution_count": 74,
   "metadata": {},
   "outputs": [
    {
     "name": "stdout",
     "output_type": "stream",
     "text": [
      "Hey, you are in the indented block\n",
      "The entire month of January is considered to be in the winter\n"
     ]
    }
   ],
   "source": [
    "month = 'January'\n",
    "\n",
    "if (month=='January') or (month=='February'):\n",
    "    print('Hey, you are in the indented block')\n",
    "    print('The entire month of', month, 'is considered to be in the winter')\n",
    "else: \n",
    "    print('The entire month of', month, 'is NOT considered to be in the winter')"
   ]
  },
  {
   "cell_type": "markdown",
   "metadata": {},
   "source": [
    "We can also be more specific and chain conditions using `elif`. This will start executing the first condition, if it is not true, it will try the second and so on and so forth. Once it has found a condition for which it is `True` it will execute the lines under it and will stop evaluating the rest of conditions. This means that at most one - the first encountered- `True` statement will be evaluated. "
   ]
  },
  {
   "cell_type": "code",
   "execution_count": 75,
   "metadata": {},
   "outputs": [
    {
     "name": "stdout",
     "output_type": "stream",
     "text": [
      "Hey, you are in indented block 2\n",
      "The entire month of May is considered to be in the spring\n"
     ]
    }
   ],
   "source": [
    "month = 'May' # Try December!\n",
    "if (month=='January') or (month=='February'):\n",
    "    print('Hey, you are in the indented block 1')\n",
    "    print('The entire month of', month, 'is considered to be in the winter')\n",
    "elif (month=='April') or (month=='May'): \n",
    "    print('Hey, you are in indented block 2')\n",
    "    print('The entire month of', month, 'is considered to be in the spring')\n",
    "elif (month=='July') or (month=='August'): \n",
    "    print('Hey, you are in indented block 3')\n",
    "    print('The entire month of', month, 'is considered to be in the summer')\n",
    "elif (month=='October') or (month=='November'): \n",
    "    print('Hey, you are in indented block 4')\n",
    "    print('The entire month of', month, 'is considered to be in the autumn')\n",
    "else:\n",
    "    print('Hey, you reached the else')\n",
    "    print('The month', month, 'is in between two different seasons')    "
   ]
  },
  {
   "cell_type": "markdown",
   "metadata": {},
   "source": [
    "If we want a statement to do nothing in Python, we use the pass keyword. This is because Python does not allow an empty block within a conditional statement. It's akin to being at a crossroads where we have to choose between turning left or right, but instead, we decide to wait and take no action."
   ]
  },
  {
   "cell_type": "code",
   "execution_count": 76,
   "metadata": {},
   "outputs": [],
   "source": [
    "month = 'April'\n",
    "if (month=='January') or (month=='February'):\n",
    "    print('Hey, you are in the idented block 1')\n",
    "    print('The entire month of', month, 'is considered to be in the winter')\n",
    "elif (month=='April') or (month=='May'): \n",
    "    pass\n",
    "elif (month=='July') or (month=='August'): \n",
    "    print('Hey, you are in idented block 3')\n",
    "    print('The entire month of', month, 'is considered to be in the summer')\n",
    "elif (month=='October') or (month=='November'): \n",
    "    print('Hey, you are in idented block 4')\n",
    "    print('The entire month of', month, 'is considered to be in the autumn')\n",
    "else:\n",
    "    print('Hey, you reached the else')\n",
    "    print('The month', month, 'is in between two different seasons')    "
   ]
  },
  {
   "cell_type": "markdown",
   "metadata": {},
   "source": [
    "### **4.5.2  Looping: `while`, `for`**\n",
    "\n",
    "Sometimes, we also want to repeat the same statement multiple times. This is what we mean when we refer to `iteration` or `looping`, which we achieve in python through `while` and `for`. \n",
    "\n",
    "\\- **While** loops execute a statement whenever the condition is true. We typically use this kind of loop to perform some operation or update in the variable. \n",
    "```python\n",
    "while condition:\n",
    "    do this\n",
    "```"
   ]
  },
  {
   "cell_type": "code",
   "execution_count": 77,
   "metadata": {},
   "outputs": [
    {
     "name": "stdout",
     "output_type": "stream",
     "text": [
      "Good morning, Chris!\n",
      "Good morning, Jesus!\n",
      "Awesome! Enjoy your class\n"
     ]
    }
   ],
   "source": [
    "good_morning='Y'\n",
    "while good_morning == 'Y':\n",
    "    print('Good morning, Chris!')\n",
    "    print('Good morning, Jesus!')\n",
    "    good_morning = input('Do we keep saying good morning? [Y/N]')\n",
    "print('Awesome! Enjoy your class')"
   ]
  },
  {
   "cell_type": "markdown",
   "metadata": {},
   "source": [
    "Notice that the previous loop can go on and on until we press N. Also, if we remove the line `good_morning = input('Do we keep saying good morning? [Y/N]')` it would just keep going and going. That's why typically in while loops we update the variable to make sure we stop when we reach a given amount of iterations. "
   ]
  },
  {
   "cell_type": "code",
   "execution_count": 78,
   "metadata": {},
   "outputs": [
    {
     "name": "stdout",
     "output_type": "stream",
     "text": [
      "Iteration: 0\n",
      "Good morning, Chris!\n",
      "Good morning, Jesus!\n",
      "----------\n",
      "Iteration: 1\n",
      "Good morning, Chris!\n",
      "Good morning, Jesus!\n",
      "----------\n",
      "Iteration: 2\n",
      "Good morning, Chris!\n",
      "Good morning, Jesus!\n",
      "----------\n",
      "Iteration: 3\n",
      "Good morning, Chris!\n",
      "Good morning, Jesus!\n",
      "----------\n",
      "Iteration: 4\n",
      "Good morning, Chris!\n",
      "Good morning, Jesus!\n",
      "----------\n"
     ]
    }
   ],
   "source": [
    "good_morning='Y'\n",
    "iteration=0\n",
    "while good_morning == 'Y':\n",
    "    print(\"Iteration:\", iteration)\n",
    "    print('Good morning, Chris!')\n",
    "    print('Good morning, Jesus!')\n",
    "    print('-'*10)\n",
    "    iteration += 1\n",
    "    if iteration==5:\n",
    "        break"
   ]
  },
  {
   "cell_type": "markdown",
   "metadata": {},
   "source": [
    "- **For**: we use `for` loops when we want to iterate over elements of a sequence. "
   ]
  },
  {
   "cell_type": "code",
   "execution_count": 79,
   "metadata": {},
   "outputs": [
    {
     "name": "stdout",
     "output_type": "stream",
     "text": [
      "C\n",
      "...\n",
      "E\n",
      "...\n",
      "M\n",
      "...\n",
      "F\n",
      "...\n",
      "I\n",
      "...\n"
     ]
    }
   ],
   "source": [
    "for letter in \"cemfi\":\n",
    "    print(letter.upper())\n",
    "    print(\"...\")"
   ]
  },
  {
   "cell_type": "code",
   "execution_count": 80,
   "metadata": {},
   "outputs": [
    {
     "name": "stdout",
     "output_type": "stream",
     "text": [
      "- January = work, work, work\n",
      "- February = work, work, work\n",
      "- March = work, work, work\n",
      "- April = work, work, work\n",
      "- May = work, work, work\n",
      "- June = Escape from Madrid if you can!\n",
      "- July = Escape from Madrid if you can!\n",
      "- August = Escape from Madrid if you can!\n",
      "- September = work, work, work\n",
      "- October = work, work, work\n",
      "- November = work, work, work\n",
      "- December = Christmas, Christmas, Christmas!\n"
     ]
    }
   ],
   "source": [
    "months_of_year = [\"January\", \"February\", \"March\", \"April\", \"May\", \"June\", \"July\", \"August\", \"September\", \"October\", \"November\", \"December\"]\n",
    "summer_holidays = [\"June\", \"July\", \"August\"]\n",
    "winter_holidays = [\"December\"]\n",
    "\n",
    "# Loop through the months and add some summer vibes\n",
    "for month in months_of_year:\n",
    "    if month in winter_holidays:\n",
    "        print(f\"- {month} = Christmas, Christmas, Christmas!\") \n",
    "    elif month in summer_holidays:\n",
    "        print(f\"- {month} = Escape from Madrid if you can!\")\n",
    "    else:\n",
    "        print(f'- {month} = work, work, work')"
   ]
  },
  {
   "cell_type": "markdown",
   "metadata": {},
   "source": [
    "We can use the function `range` also to get a sequence of number to loop over. It follows the syntax `range(start, stop, step)`:\n",
    "- **Start**\n",
    "    - Where the sequence starts: it includes the start value (first number will always be `start`)\n",
    "    - Optional \n",
    "    - Defaults to 0 (unless otherwise specified)\n",
    "- **Stop**:\n",
    "    - Where the sequence ends: it does not include the stop value (last number will always be `stop`-`step`)\n",
    "    - Required field\n",
    "- **Step**: \n",
    "    - Step size of the sequence, i.e., how much we increase the value at each iteration: `start + step`, `start + 2*step`, `start + 3*step`, ...\n",
    "    - Optional\n",
    "    - Defaults to 1 (unless otherwise specified)"
   ]
  },
  {
   "cell_type": "code",
   "execution_count": 81,
   "metadata": {},
   "outputs": [
    {
     "name": "stdout",
     "output_type": "stream",
     "text": [
      "0\n",
      "1\n",
      "2\n",
      "3\n",
      "4\n",
      "5\n",
      "6\n",
      "7\n",
      "8\n",
      "9\n"
     ]
    }
   ],
   "source": [
    "for i in range(10):\n",
    "    print(i)"
   ]
  },
  {
   "cell_type": "code",
   "execution_count": 82,
   "metadata": {},
   "outputs": [
    {
     "name": "stdout",
     "output_type": "stream",
     "text": [
      "1\n",
      "3\n",
      "5\n",
      "7\n",
      "9\n"
     ]
    }
   ],
   "source": [
    "for i in range(1,10,2):\n",
    "    print(i)"
   ]
  },
  {
   "cell_type": "markdown",
   "metadata": {},
   "source": [
    "# **5. Introduction to `NumPy`**\n",
    "\n",
    "<hr>\n",
    "\n",
    "<img src=\"https://external-content.duckduckgo.com/iu/?u=https%3A%2F%2Fuser-images.githubusercontent.com%2F1217238%2F65354639-dd928f80-dba4-11e9-833b-bc3e8c6a737d.png&f=1&nofb=1&ipt=22bf038e2f077d2a4ed5eba3dc927930020dbf5f7a120552f94aacaab42a47c4\" width=\"200px\" />\n",
    "\n",
    "A module, in Python, is a program that can be imported into interactive mode or other programs for use. A Python package typically comprises multiple modules. Physically, a package is a directory containing modules and possibly subdirectories, each potentially containing further modules. Conceptually, a package links all modules together using the package name for reference. \n",
    "\n",
    "NumPy (**Num**erical **Py**thon) is one of the most common packages used in Python. In fact, numerous computational packages that offer scientific capabilities utilize NumPy's array objects as a standard interface for data exchange. That's why, although NumPy doesn't inherently have scientific capabilities, understanding NumPy arrays and array-based computing principles can save your time in the future. \n",
    "\n",
    "NumPy offers a vast array of efficient methods for creating and manipulating numerical data arrays. Unlike Python lists, which can accommodate various data types within a single list, NumPy arrays require homogeneity among their elements for efficient mathematical operations. Utilizing NumPy arrays provides advantages such as faster execution and reduced memory consumption compared to Python lists. With NumPy, data storage is optimized through the specification of data types, enhancing code optimization."
   ]
  },
  {
   "cell_type": "code",
   "execution_count": 83,
   "metadata": {},
   "outputs": [],
   "source": [
    "import numpy as np"
   ]
  },
  {
   "cell_type": "markdown",
   "metadata": {},
   "source": [
    "The array serves as a fundamental data structure within the NumPy. They represen a grid of values containing information on raw data, element location, and interpretation. Elements share a common data type, known as the array dtype.\n",
    "\n",
    "One method of initializing NumPy arrays involves using Python lists, with nested lists employed for two- or higher-dimensional data structures."
   ]
  },
  {
   "cell_type": "code",
   "execution_count": 84,
   "metadata": {},
   "outputs": [
    {
     "data": {
      "text/plain": [
       "array([1, 2, 3, 4, 5, 6])"
      ]
     },
     "execution_count": 84,
     "metadata": {},
     "output_type": "execute_result"
    }
   ],
   "source": [
    "a = np.array([1, 2, 3, 4, 5, 6])\n",
    "a"
   ]
  },
  {
   "cell_type": "markdown",
   "metadata": {},
   "source": [
    "We can access the elements through indexing. "
   ]
  },
  {
   "cell_type": "code",
   "execution_count": 85,
   "metadata": {},
   "outputs": [
    {
     "data": {
      "text/plain": [
       "np.int64(1)"
      ]
     },
     "execution_count": 85,
     "metadata": {},
     "output_type": "execute_result"
    }
   ],
   "source": [
    "a[0]"
   ]
  },
  {
   "cell_type": "markdown",
   "metadata": {},
   "source": [
    "Arrays are N-Dimensional (that's why sometimes we refer to them as NDarray). That means that NumPy arrays will encompass vector (1-Dimensions), Matrices (2D) or tensors (3D and higher). We can get all the information of the array by checking its attributes. "
   ]
  },
  {
   "cell_type": "code",
   "execution_count": 86,
   "metadata": {},
   "outputs": [
    {
     "data": {
      "text/plain": [
       "array([[1, 2, 3, 4, 5, 6],\n",
       "       [1, 2, 3, 4, 5, 6]])"
      ]
     },
     "execution_count": 86,
     "metadata": {},
     "output_type": "execute_result"
    }
   ],
   "source": [
    "a = np.array([[1, 2, 3, 4, 5, 6], [1, 2, 3, 4, 5, 6]])\n",
    "a"
   ]
  },
  {
   "cell_type": "code",
   "execution_count": 87,
   "metadata": {},
   "outputs": [
    {
     "name": "stdout",
     "output_type": "stream",
     "text": [
      "Dimensions/axes: 2\n",
      "Shape (size of array in each dimension): (2, 6)\n",
      "Size (total number of elements): 12\n",
      "Data type: int64\n"
     ]
    }
   ],
   "source": [
    "print('Dimensions/axes:', a.ndim)\n",
    "print('Shape (size of array in each dimension):', a.shape)\n",
    "print('Size (total number of elements):', a.size)\n",
    "print('Data type:', a.dtype)\n"
   ]
  },
  {
   "cell_type": "markdown",
   "metadata": {},
   "source": [
    "We can initialize arrays using different commands depending on what we aim. \n",
    "\n",
    "For instance, the most straightforward case would be to pass a list to `np.array()` to create one: "
   ]
  },
  {
   "cell_type": "code",
   "execution_count": 88,
   "metadata": {},
   "outputs": [
    {
     "data": {
      "text/plain": [
       "array([5, 6, 7])"
      ]
     },
     "execution_count": 88,
     "metadata": {},
     "output_type": "execute_result"
    }
   ],
   "source": [
    "arr1 = np.array([5,6,7])\n",
    "arr1"
   ]
  },
  {
   "cell_type": "markdown",
   "metadata": {},
   "source": [
    "However, sometimes we are more ambiguous and have no information on what our array contains. We just need to be able to initialize an array so that later on, our code, can update it. For this, we typically create arrays of the desired dimensions and fill them with zeros (`np.zeros()`), ones (`np.ones()`), with a given value (`np.full()`) or with without initializing (`np.empty()`). \n",
    "\n",
    "> Note: when working with large data, `np.empty()` can be faster and more efficient. Also, large arrays can take up most of your memory and, in those cases, carefully establishing the `dtype()` can help to manage memory more efficiently (i.e.,  chose 8 bits over 64 bits.)"
   ]
  },
  {
   "cell_type": "code",
   "execution_count": 89,
   "metadata": {},
   "outputs": [
    {
     "data": {
      "text/plain": [
       "array([0., 0., 0., 0.])"
      ]
     },
     "execution_count": 89,
     "metadata": {},
     "output_type": "execute_result"
    }
   ],
   "source": [
    "np.zeros(4)"
   ]
  },
  {
   "cell_type": "code",
   "execution_count": 90,
   "metadata": {},
   "outputs": [
    {
     "data": {
      "text/plain": [
       "array([[1., 1.],\n",
       "       [1., 1.]])"
      ]
     },
     "execution_count": 90,
     "metadata": {},
     "output_type": "execute_result"
    }
   ],
   "source": [
    "np.ones((2,2))"
   ]
  },
  {
   "cell_type": "markdown",
   "metadata": {},
   "source": [
    "Here you have an example of a 3D array of ones: if has 3 rows, 2 columns and 1 of height(depth)"
   ]
  },
  {
   "cell_type": "code",
   "execution_count": 91,
   "metadata": {},
   "outputs": [
    {
     "data": {
      "text/plain": [
       "array([[[1.],\n",
       "        [1.]],\n",
       "\n",
       "       [[1.],\n",
       "        [1.]],\n",
       "\n",
       "       [[1.],\n",
       "        [1.]]])"
      ]
     },
     "execution_count": 91,
     "metadata": {},
     "output_type": "execute_result"
    }
   ],
   "source": [
    "np.ones((3,2,1))"
   ]
  },
  {
   "cell_type": "markdown",
   "metadata": {},
   "source": [
    "We can use `np.full()` to create an array of constant vales that we specify in the `fill_value` option. "
   ]
  },
  {
   "cell_type": "code",
   "execution_count": 92,
   "metadata": {},
   "outputs": [
    {
     "data": {
      "text/plain": [
       "array([[4, 4],\n",
       "       [4, 4]])"
      ]
     },
     "execution_count": 92,
     "metadata": {},
     "output_type": "execute_result"
    }
   ],
   "source": [
    "np.full((2,2,) , fill_value= 4)"
   ]
  },
  {
   "cell_type": "markdown",
   "metadata": {},
   "source": [
    "When we use `np.empty()` we are creating an unitialized array, in the sense that it is reserving the requested space in memory and returns an array with 'garbage' values. "
   ]
  },
  {
   "cell_type": "code",
   "execution_count": 93,
   "metadata": {},
   "outputs": [
    {
     "data": {
      "text/plain": [
       "array([0., 0.])"
      ]
     },
     "execution_count": 93,
     "metadata": {},
     "output_type": "execute_result"
    }
   ],
   "source": [
    "np.empty(2)"
   ]
  },
  {
   "cell_type": "markdown",
   "metadata": {},
   "source": [
    "With `np.linspace()` we create an array with values that are equally spaced between the start and endpoint. For instance, in the below code we are creating an array with 5 equally spaced values from 0 to 20. "
   ]
  },
  {
   "cell_type": "code",
   "execution_count": 94,
   "metadata": {},
   "outputs": [
    {
     "data": {
      "text/plain": [
       "array([ 0.,  5., 10., 15., 20.])"
      ]
     },
     "execution_count": 94,
     "metadata": {},
     "output_type": "execute_result"
    }
   ],
   "source": [
    "np.linspace(start=0,stop=20,num=5)"
   ]
  },
  {
   "cell_type": "markdown",
   "metadata": {},
   "source": [
    "## **5.1 Managing array elements**\n",
    "\n",
    "Arrays accept common operations like sorting, concatenating and finding unique elements. \n",
    "\n",
    "For instance, using the `sort()` method we can sort elements within an array. "
   ]
  },
  {
   "cell_type": "code",
   "execution_count": 95,
   "metadata": {},
   "outputs": [
    {
     "data": {
      "text/plain": [
       "array([ 0,  2,  3,  5, 10, 50])"
      ]
     },
     "execution_count": 95,
     "metadata": {},
     "output_type": "execute_result"
    }
   ],
   "source": [
    "arr1 = np.array((10,2,5,3,50,0))\n",
    "np.sort(arr1) # sort in ascending order by default"
   ]
  },
  {
   "cell_type": "code",
   "execution_count": 96,
   "metadata": {},
   "outputs": [
    {
     "data": {
      "text/plain": [
       "array([50, 10,  5,  3,  2,  0])"
      ]
     },
     "execution_count": 96,
     "metadata": {},
     "output_type": "execute_result"
    }
   ],
   "source": [
    "np.sort(arr1)[::-1] # sort in descending order by reversing the sorted array"
   ]
  },
  {
   "cell_type": "markdown",
   "metadata": {},
   "source": [
    "In multidimensional arrays, we can sort the elements of a given dimension by specifying the axis (0 within columns, 1 across rows)"
   ]
  },
  {
   "cell_type": "code",
   "execution_count": 97,
   "metadata": {},
   "outputs": [
    {
     "data": {
      "text/plain": [
       "array([[1, 2, 3],\n",
       "       [8, 1, 5]])"
      ]
     },
     "execution_count": 97,
     "metadata": {},
     "output_type": "execute_result"
    }
   ],
   "source": [
    "mat1 = np.array([[1,2,3],[8,1,5]])\n",
    "mat1"
   ]
  },
  {
   "cell_type": "code",
   "execution_count": 98,
   "metadata": {},
   "outputs": [
    {
     "data": {
      "text/plain": [
       "array([[1, 1, 3],\n",
       "       [8, 2, 5]])"
      ]
     },
     "execution_count": 98,
     "metadata": {},
     "output_type": "execute_result"
    }
   ],
   "source": [
    "mat1.sort(axis=0)\n",
    "mat1"
   ]
  },
  {
   "cell_type": "markdown",
   "metadata": {},
   "source": [
    "Using `concatenate` we can join the elements of two arrays along an existing axis. "
   ]
  },
  {
   "cell_type": "code",
   "execution_count": 99,
   "metadata": {},
   "outputs": [
    {
     "data": {
      "text/plain": [
       "array([1, 2, 3, 6, 7, 8])"
      ]
     },
     "execution_count": 99,
     "metadata": {},
     "output_type": "execute_result"
    }
   ],
   "source": [
    "arr1 = np.array([1,2,3])\n",
    "arr2 = np.array([6,7,8])\n",
    "\n",
    "np.concatenate((arr1,arr2), axis=0)"
   ]
  },
  {
   "cell_type": "markdown",
   "metadata": {},
   "source": [
    "Instead, if we want to concatenate along a new axis, we sue `vstack()` and `hstack()` "
   ]
  },
  {
   "cell_type": "code",
   "execution_count": 100,
   "metadata": {},
   "outputs": [
    {
     "data": {
      "text/plain": [
       "array([[1, 2, 3],\n",
       "       [6, 7, 8]])"
      ]
     },
     "execution_count": 100,
     "metadata": {},
     "output_type": "execute_result"
    }
   ],
   "source": [
    "np.vstack((arr1,arr2))"
   ]
  },
  {
   "cell_type": "code",
   "execution_count": 101,
   "metadata": {},
   "outputs": [
    {
     "data": {
      "text/plain": [
       "array([1, 2, 3, 6, 7, 8])"
      ]
     },
     "execution_count": 101,
     "metadata": {},
     "output_type": "execute_result"
    }
   ],
   "source": [
    "np.hstack((arr1,arr2)) # equivalent in this case to concatenate "
   ]
  },
  {
   "cell_type": "markdown",
   "metadata": {},
   "source": [
    "It is also possible to reshape arrays. For instance, let's reshape the concatenation of `arr1` and `arr2` to 3 rows and 2 columns"
   ]
  },
  {
   "cell_type": "code",
   "execution_count": 102,
   "metadata": {},
   "outputs": [
    {
     "data": {
      "text/plain": [
       "array([[1, 2],\n",
       "       [3, 6],\n",
       "       [7, 8]])"
      ]
     },
     "execution_count": 102,
     "metadata": {},
     "output_type": "execute_result"
    }
   ],
   "source": [
    "arr_c= np.concatenate((arr1,arr2))\n",
    "arr_c.reshape((3,2))"
   ]
  },
  {
   "cell_type": "markdown",
   "metadata": {},
   "source": [
    "We can also perform aggregation functions over all elements, like finding the minimum, maximum, means, sum of elements and much more. "
   ]
  },
  {
   "cell_type": "code",
   "execution_count": 103,
   "metadata": {},
   "outputs": [
    {
     "data": {
      "text/plain": [
       "array([1, 2, 3])"
      ]
     },
     "execution_count": 103,
     "metadata": {},
     "output_type": "execute_result"
    }
   ],
   "source": [
    "arr1"
   ]
  },
  {
   "cell_type": "code",
   "execution_count": 104,
   "metadata": {},
   "outputs": [
    {
     "name": "stdout",
     "output_type": "stream",
     "text": [
      "1\n",
      "6\n",
      "3\n",
      "2.0\n"
     ]
    }
   ],
   "source": [
    "print(arr1.min())\n",
    "print(arr1.sum())\n",
    "print(arr1.max())\n",
    "print(arr1.mean())"
   ]
  },
  {
   "cell_type": "markdown",
   "metadata": {},
   "source": [
    "It is also possible to get only the unique elements of an array or to count how many elements are repeated. "
   ]
  },
  {
   "cell_type": "code",
   "execution_count": 105,
   "metadata": {},
   "outputs": [
    {
     "data": {
      "text/plain": [
       "array([ 1,  2,  3,  5,  6,  7,  8, 11])"
      ]
     },
     "execution_count": 105,
     "metadata": {},
     "output_type": "execute_result"
    }
   ],
   "source": [
    "arr1 =np.array((1,2,3,3,1,1,5,6,7,8,11,11))\n",
    "np.unique(arr1)"
   ]
  },
  {
   "cell_type": "code",
   "execution_count": 106,
   "metadata": {},
   "outputs": [
    {
     "data": {
      "text/plain": [
       "array([3, 1, 2, 1, 1, 1, 1, 2])"
      ]
     },
     "execution_count": 106,
     "metadata": {},
     "output_type": "execute_result"
    }
   ],
   "source": [
    "unq, count = np.unique(arr1, return_counts=True)\n",
    "count # First element appears 3 times, second 1... "
   ]
  },
  {
   "cell_type": "markdown",
   "metadata": {},
   "source": [
    "Comparing NumPy arrays is also possible using operators as `==`, `!=`, and the like. Comparisons will result in an array of booleans indicating if the condition is met for the cells. "
   ]
  },
  {
   "cell_type": "code",
   "execution_count": 107,
   "metadata": {},
   "outputs": [
    {
     "data": {
      "text/plain": [
       "array([[ True, False,  True],\n",
       "       [False, False,  True]])"
      ]
     },
     "execution_count": 107,
     "metadata": {},
     "output_type": "execute_result"
    }
   ],
   "source": [
    "arr1 = np.array(((1,2,3),(4,5,6)))\n",
    "arr2 = np.array(((1,5,3),(7,2,6)))\n",
    "arr1==arr2"
   ]
  },
  {
   "cell_type": "markdown",
   "metadata": {},
   "source": [
    "## **5.2 Arithmetic operations with arrays**\n",
    "\n",
    "From algebraic rules, we can only perform operations on an array and a scalar or with two arrays of the same shape. NumPy arrays support common operations as addition, substraction and multiplication as long as those two conditions are met. \n",
    "\n",
    "For NumPy, operations that happen within cells are what we know as **broadcasting**. **Broadcasting** is how NumPy operates between two arrays with different numbers of dimensions but compatible shape. "
   ]
  },
  {
   "cell_type": "code",
   "execution_count": 108,
   "metadata": {},
   "outputs": [],
   "source": [
    "A = np.array(((1,2,3),\n",
    "                (4,5,6)))\n",
    "B = np.array(((10,20,30),\n",
    "                 (40,50,60)))"
   ]
  },
  {
   "cell_type": "code",
   "execution_count": 109,
   "metadata": {},
   "outputs": [
    {
     "data": {
      "text/plain": [
       "True"
      ]
     },
     "execution_count": 109,
     "metadata": {},
     "output_type": "execute_result"
    }
   ],
   "source": [
    "A.shape == B.shape"
   ]
  },
  {
   "cell_type": "markdown",
   "metadata": {},
   "source": [
    "### **5.2.1. Element-wise operations** \n",
    "\n",
    "**Element-wise operations between arrays**\n",
    "\n",
    "- Arrays must be of the same shape\n",
    "- Element-wise addition, substraction, multiplication and division are performed with `+`, `-`, `*` and `/` respectively.\n",
    "\n",
    "Mathematically, for $\\mathbf A, \\mathbf B \\in \\mathbb M^{n \\times m}$ we are doing:\n",
    "\n",
    "\\begin{align*}\n",
    "\\mathbf A + \\mathbf B \n",
    "\\\\\n",
    "\\mathbf A - \\mathbf B\n",
    "\\\\ \n",
    "\\mathbf A \\odot \\mathbf B\n",
    "\\\\\n",
    "\\mathbf A \\oslash \\mathbf B\n",
    "\\end{align*}"
   ]
  },
  {
   "cell_type": "code",
   "execution_count": 110,
   "metadata": {},
   "outputs": [
    {
     "data": {
      "text/plain": [
       "array([[1, 2, 3],\n",
       "       [4, 5, 6]])"
      ]
     },
     "execution_count": 110,
     "metadata": {},
     "output_type": "execute_result"
    }
   ],
   "source": [
    "A"
   ]
  },
  {
   "cell_type": "code",
   "execution_count": 111,
   "metadata": {},
   "outputs": [
    {
     "data": {
      "text/plain": [
       "array([[10, 20, 30],\n",
       "       [40, 50, 60]])"
      ]
     },
     "execution_count": 111,
     "metadata": {},
     "output_type": "execute_result"
    }
   ],
   "source": [
    "B"
   ]
  },
  {
   "cell_type": "code",
   "execution_count": 112,
   "metadata": {},
   "outputs": [
    {
     "data": {
      "text/plain": [
       "array([[11, 22, 33],\n",
       "       [44, 55, 66]])"
      ]
     },
     "execution_count": 112,
     "metadata": {},
     "output_type": "execute_result"
    }
   ],
   "source": [
    "A+B # Matrix addition (element-wise addition)"
   ]
  },
  {
   "cell_type": "code",
   "execution_count": 113,
   "metadata": {},
   "outputs": [
    {
     "data": {
      "text/plain": [
       "array([[ -9, -18, -27],\n",
       "       [-36, -45, -54]])"
      ]
     },
     "execution_count": 113,
     "metadata": {},
     "output_type": "execute_result"
    }
   ],
   "source": [
    "A-B # Matrix subtraction (element-wise subtraction)"
   ]
  },
  {
   "cell_type": "code",
   "execution_count": 114,
   "metadata": {},
   "outputs": [
    {
     "data": {
      "text/plain": [
       "array([[ 10,  40,  90],\n",
       "       [160, 250, 360]])"
      ]
     },
     "execution_count": 114,
     "metadata": {},
     "output_type": "execute_result"
    }
   ],
   "source": [
    "A*B # Hadamard product (element-wise multiplication)"
   ]
  },
  {
   "cell_type": "code",
   "execution_count": 115,
   "metadata": {},
   "outputs": [
    {
     "data": {
      "text/plain": [
       "array([[0.1, 0.1, 0.1],\n",
       "       [0.1, 0.1, 0.1]])"
      ]
     },
     "execution_count": 115,
     "metadata": {},
     "output_type": "execute_result"
    }
   ],
   "source": [
    "A/B # Hadamard division (element-wise division)"
   ]
  },
  {
   "cell_type": "markdown",
   "metadata": {},
   "source": [
    "**Element-wise operations between an array and a scalar**\n",
    "\n",
    "- In this case, the scalar is broadcasted to match the shape of the array, allowing for element-wise operations.\n",
    "\n",
    "- Mathematically, for a matrix $\\mathbf A \\in \\mathbb M^{n \\times m}$ and a scalar $c \\in \\mathbb R$ we are doing:\n",
    "\n",
    "\\begin{align*}\n",
    "\\mathbf A + c \\mathbf 1_{n \\times m} \\\\\n",
    "\\mathbf A - c \\mathbf 1_{n \\times m} \\\\\n",
    "\\mathbf A \\odot c \\mathbf 1_{n \\times m} \\\\\n",
    "\\mathbf A \\oslash c \\mathbf 1_{n \\times m}\n",
    "\\end{align*}"
   ]
  },
  {
   "cell_type": "code",
   "execution_count": 116,
   "metadata": {},
   "outputs": [
    {
     "data": {
      "text/plain": [
       "array([[11, 12, 13],\n",
       "       [14, 15, 16]])"
      ]
     },
     "execution_count": 116,
     "metadata": {},
     "output_type": "execute_result"
    }
   ],
   "source": [
    "A+10"
   ]
  },
  {
   "cell_type": "code",
   "execution_count": 117,
   "metadata": {},
   "outputs": [
    {
     "data": {
      "text/plain": [
       "array([[-9, -8, -7],\n",
       "       [-6, -5, -4]])"
      ]
     },
     "execution_count": 117,
     "metadata": {},
     "output_type": "execute_result"
    }
   ],
   "source": [
    "A-10"
   ]
  },
  {
   "cell_type": "code",
   "execution_count": 118,
   "metadata": {},
   "outputs": [
    {
     "data": {
      "text/plain": [
       "array([[10, 20, 30],\n",
       "       [40, 50, 60]])"
      ]
     },
     "execution_count": 118,
     "metadata": {},
     "output_type": "execute_result"
    }
   ],
   "source": [
    "A*10"
   ]
  },
  {
   "cell_type": "code",
   "execution_count": 119,
   "metadata": {},
   "outputs": [
    {
     "data": {
      "text/plain": [
       "array([[0.1, 0.2, 0.3],\n",
       "       [0.4, 0.5, 0.6]])"
      ]
     },
     "execution_count": 119,
     "metadata": {},
     "output_type": "execute_result"
    }
   ],
   "source": [
    "A/10"
   ]
  },
  {
   "cell_type": "markdown",
   "metadata": {},
   "source": [
    "### **5.2.2. Matrix multiplication** \n",
    "\n",
    "Matrix multiplication is achieved with either `@` or `matmul()`.\n",
    "\n",
    "This is the usual matrix multiplication; for $\\mathbf A, \\mathbf B \\in \\mathbb M^{n \\times m}$ we are doing:\n",
    "$$\n",
    "\\mathbf A \\mathbf B^\\top\n",
    "$$\n",
    "\n",
    "> Note: because both of our matrices are 3-by-2, we need to transpose one of them to perform the multiplication."
   ]
  },
  {
   "cell_type": "code",
   "execution_count": 120,
   "metadata": {},
   "outputs": [
    {
     "name": "stdout",
     "output_type": "stream",
     "text": [
      "(2, 3) * (3, 2) = (2, 2) matrix\n"
     ]
    }
   ],
   "source": [
    "print(f\"{A.shape} * {B.T.shape} = {(A @ B.T).shape} matrix\") # Matrix multiplication"
   ]
  },
  {
   "cell_type": "code",
   "execution_count": 121,
   "metadata": {},
   "outputs": [
    {
     "data": {
      "text/plain": [
       "array([[140, 320],\n",
       "       [320, 770]])"
      ]
     },
     "execution_count": 121,
     "metadata": {},
     "output_type": "execute_result"
    }
   ],
   "source": [
    "A @ B.T"
   ]
  },
  {
   "cell_type": "code",
   "execution_count": 122,
   "metadata": {},
   "outputs": [
    {
     "data": {
      "text/plain": [
       "array([[140, 320],\n",
       "       [320, 770]])"
      ]
     },
     "execution_count": 122,
     "metadata": {},
     "output_type": "execute_result"
    }
   ],
   "source": [
    "np.matmul(A,B.T)"
   ]
  },
  {
   "cell_type": "code",
   "execution_count": 123,
   "metadata": {},
   "outputs": [
    {
     "name": "stdout",
     "output_type": "stream",
     "text": [
      "(3, 2) * (2, 3) = (3, 3) matrix\n",
      "\n",
      "Using @\n",
      " [[170 220 270]\n",
      " [220 290 360]\n",
      " [270 360 450]]\n",
      "\n",
      "Using matmul\n",
      " [[170 220 270]\n",
      " [220 290 360]\n",
      " [270 360 450]]\n"
     ]
    }
   ],
   "source": [
    "print(f\"{B.T.shape} * {A.shape} = {(B.T @ A).shape} matrix\") # Matrix multiplication\n",
    "\n",
    "print(\"\\nUsing @\\n\", B.T @ A)\n",
    "print(\"\\nUsing matmul\\n\", np.matmul(B.T, A))"
   ]
  },
  {
   "cell_type": "markdown",
   "metadata": {},
   "source": [
    "---"
   ]
  },
  {
   "cell_type": "markdown",
   "metadata": {},
   "source": [
    "# **Practice exercies**\n",
    "\n",
    "1.  Create a 1D array with all integer elemenets from 1 to 10 (both included). No hard-coding allowed!\n",
    "2.  From the array you created in 1, create one that contains all odd elements and one with all even elements. \n",
    "3.  Create a new array that replaces all elements in 1 that are odd by -1. \n",
    "4.  Create a 3-by-3 matrix filled with 'True' values (i.e., booleans).\n",
    "5.  Suppose you have array `a=np.array(['a','b','c','d','e','f','g'])` and `b = np.array(['g','h','c','a','e','w','g'])`. Find all elements that are equal. Can you get the position where the elements of both arrays match?\n",
    "6.  Write a function that takes a element an array and prints elements that are divisible by a given number. Try it creating an array from 1 to 20 and printiing divisibles by 3.  \n",
    "7. Consider two matrices, A and B, both of size 100x100, filled with random integer values between 1 and 10. Implement a function to perform element-wise multiplication of these matrices using nested loops. Implement the same operation using Numpy's vectorized multiplication. Repeart againnwith matrices of size 1000x1000, 10000x10000, 1000000x1000000 and compare the execution time. Which one is faster? \n"
   ]
  },
  {
   "cell_type": "code",
   "execution_count": 124,
   "metadata": {},
   "outputs": [
    {
     "name": "stdout",
     "output_type": "stream",
     "text": [
      "[ 1  2  3  4  5  6  7  8  9 10]\n"
     ]
    }
   ],
   "source": [
    "#1. \n",
    "array_ex = np.array(range(1,11))\n",
    "print(array_ex)"
   ]
  },
  {
   "cell_type": "code",
   "execution_count": 125,
   "metadata": {},
   "outputs": [
    {
     "name": "stdout",
     "output_type": "stream",
     "text": [
      "[np.int64(1), np.int64(3), np.int64(5), np.int64(7), np.int64(9)]\n",
      "[np.int64(2), np.int64(4), np.int64(6), np.int64(8), np.int64(10)]\n"
     ]
    }
   ],
   "source": [
    "#2. \n",
    "odds = [o for o in array_ex if o%2==1]\n",
    "print(odds)\n",
    "even = [o for o in array_ex if o%2==0]\n",
    "print(even)"
   ]
  },
  {
   "cell_type": "code",
   "execution_count": 126,
   "metadata": {},
   "outputs": [
    {
     "data": {
      "text/plain": [
       "array([ 1, -1,  3, -1,  5, -1,  7, -1,  9, -1])"
      ]
     },
     "execution_count": 126,
     "metadata": {},
     "output_type": "execute_result"
    }
   ],
   "source": [
    "#3. \n",
    "arr_r = array_ex\n",
    "arr_r = np.where(arr_r%2,arr_r,-1)\n",
    "arr_r"
   ]
  },
  {
   "cell_type": "code",
   "execution_count": 127,
   "metadata": {},
   "outputs": [
    {
     "name": "stdout",
     "output_type": "stream",
     "text": [
      "Congrats, you just created your first mask!\n"
     ]
    }
   ],
   "source": [
    "#4. \n",
    "mat3 = np.full((3,3),fill_value =True,dtype=bool)\n",
    "mat3\n",
    "print('Congrats, you just created your first mask!')"
   ]
  },
  {
   "cell_type": "code",
   "execution_count": 128,
   "metadata": {},
   "outputs": [
    {
     "name": "stdout",
     "output_type": "stream",
     "text": [
      "['a' 'c' 'e' 'g']\n",
      "[0 2 4 6]\n",
      "[3 2 4 0]\n"
     ]
    }
   ],
   "source": [
    "#5. \n",
    "a=np.array(['a','b','c','d','e','f','g'])\n",
    "b = np.array(['g','h','c','a','e','w','g'])\n",
    "inter=np.intersect1d(a,b)\n",
    "print(inter)\n",
    "\n",
    "inter, apos, bpos = np.intersect1d(a,b,return_indices=True)\n",
    "print(apos)\n",
    "print(bpos)"
   ]
  },
  {
   "cell_type": "code",
   "execution_count": 129,
   "metadata": {},
   "outputs": [
    {
     "name": "stdout",
     "output_type": "stream",
     "text": [
      "3 is divisible by 3\n",
      "6 is divisible by 3\n",
      "9 is divisible by 3\n",
      "12 is divisible by 3\n",
      "15 is divisible by 3\n",
      "18 is divisible by 3\n"
     ]
    }
   ],
   "source": [
    "#6. \n",
    "def print_divisible(array,div):\n",
    "    for i in array: \n",
    "        if i%div == 0:\n",
    "            print(i,'is divisible by', div)\n",
    "    return None\n",
    "\n",
    "arr =np.array(range(1,21))\n",
    "print_divisible(arr,3)"
   ]
  },
  {
   "cell_type": "code",
   "execution_count": 130,
   "metadata": {},
   "outputs": [],
   "source": [
    "#7\n",
    "mat_a =np.random.randint(1, 11, size=(1000, 1000))\n",
    "mat_b =np.random.randint(1, 11, size=(1000, 1000))\n",
    "\n",
    "def multiply_in_loop(m1,m2):\n",
    "    if m1.shape != m2.shape:\n",
    "        raise ValueError(\"Matrices A and B must have the same shape.\")\n",
    "\n",
    "    m, n = m1.shape\n",
    "    result = np.zeros((m, n))\n",
    "\n",
    "    for i in range(m):\n",
    "        for j in range(n):\n",
    "            result[i, j] = m1[i, j] * m2[i, j]\n",
    "\n",
    "    return result\n"
   ]
  },
  {
   "cell_type": "code",
   "execution_count": 131,
   "metadata": {},
   "outputs": [],
   "source": [
    "out= multiply_in_loop(mat_a,mat_b)\n"
   ]
  },
  {
   "cell_type": "code",
   "execution_count": 132,
   "metadata": {},
   "outputs": [],
   "source": [
    "out_built = np.multiply(mat_a,mat_b)"
   ]
  },
  {
   "cell_type": "code",
   "execution_count": 133,
   "metadata": {},
   "outputs": [
    {
     "data": {
      "text/plain": [
       "np.int64(1000000)"
      ]
     },
     "execution_count": 133,
     "metadata": {},
     "output_type": "execute_result"
    }
   ],
   "source": [
    "(out_built == out).sum()"
   ]
  }
 ],
 "metadata": {
  "kernelspec": {
   "display_name": "datascience-cemfimaster",
   "language": "python",
   "name": "python3"
  },
  "language_info": {
   "codemirror_mode": {
    "name": "ipython",
    "version": 3
   },
   "file_extension": ".py",
   "mimetype": "text/x-python",
   "name": "python",
   "nbconvert_exporter": "python",
   "pygments_lexer": "ipython3",
   "version": "3.11.13"
  }
 },
 "nbformat": 4,
 "nbformat_minor": 2
}
